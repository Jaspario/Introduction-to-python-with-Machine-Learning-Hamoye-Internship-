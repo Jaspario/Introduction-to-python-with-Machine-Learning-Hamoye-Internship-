{
 "cells": [
  {
   "cell_type": "markdown",
   "metadata": {},
   "source": [
    "# Introduction to Python for Machine Learning"
   ]
  },
  {
   "cell_type": "markdown",
   "metadata": {},
   "source": [
    "## 1. Import Libraries"
   ]
  },
  {
   "cell_type": "code",
   "execution_count": null,
   "metadata": {},
   "outputs": [],
   "source": [
    "import pandas as pd\n",
    "import numpy as np\n",
    "import seaborn as sns\n",
    "import statistics as st\n",
    "import matplotlib.pyplot as plt\n",
    "import re\n",
    "import os"
   ]
  },
  {
   "cell_type": "markdown",
   "metadata": {},
   "source": [
    "## 2. Data Importation/Download"
   ]
  },
  {
   "cell_type": "markdown",
   "metadata": {},
   "source": [
    "#### 2.1. Create Directories and URL"
   ]
  },
  {
   "cell_type": "code",
   "execution_count": null,
   "metadata": {},
   "outputs": [],
   "source": [
    "# Create url\n",
    "url = 'http://github.com/WalePhenomenon/climate_change/blob/master/fuel_ferc1.csv?raw=true'\n",
    "\n",
    "# variable to store file path\n",
    "file_path = r'DataSets'\n",
    "\n",
    "# variable to store file name\n",
    "file_name = 'fuel_dataset.xlsx'\n",
    "\n",
    "# variable to store file directory\n",
    "file_directory = file_path+\"\\\\\"+file_name\n",
    "\n",
    "# string variable to store sheet name\n",
    "excel_sheet = 'DataSet'\n",
    "\n",
    "# Create file directory\n",
    "os.makedirs(os.path.dirname(file_directory), exist_ok=True)"
   ]
  },
  {
   "cell_type": "markdown",
   "metadata": {},
   "source": [
    "#### 2.2. Import DataSet to Local directory"
   ]
  },
  {
   "cell_type": "code",
   "execution_count": null,
   "metadata": {},
   "outputs": [],
   "source": [
    "try: # try load from file\n",
    "    raw_df = pd.read_excel(file_directory, excel_sheet)\n",
    "    print(\"Fuel DataSet Loaded!\")\n",
    "except FileNotFoundError: \n",
    "    try: # try download data set from git repo\n",
    "        raw_df = pd.read_csv(url)\n",
    "        # Save to local storage\n",
    "        raw_df.to_excel(file_directory, excel_sheet, index=False) \n",
    "        print(\"File downloaded!\") \n",
    "    except OSError: \n",
    "        print('Network Connection Error!')"
   ]
  },
  {
   "cell_type": "markdown",
   "metadata": {},
   "source": [
    "## 3. Data Exploration \n",
    "###### Here we would try to understand our dataset"
   ]
  },
  {
   "cell_type": "markdown",
   "metadata": {},
   "source": [
    "#### 3.1. Display the data set"
   ]
  },
  {
   "cell_type": "code",
   "execution_count": null,
   "metadata": {},
   "outputs": [],
   "source": [
    "# Display first 4 rows\n",
    "raw_df.head(4)"
   ]
  },
  {
   "cell_type": "markdown",
   "metadata": {},
   "source": [
    "#### 3.2. Display dataset info"
   ]
  },
  {
   "cell_type": "code",
   "execution_count": null,
   "metadata": {},
   "outputs": [],
   "source": [
    "# Get data set info\n",
    "raw_df.info(verbose=True, null_counts=False)"
   ]
  },
  {
   "cell_type": "markdown",
   "metadata": {},
   "source": [
    "#### 3.3. Describe the data set to understand the relations, dependencies or unique features"
   ]
  },
  {
   "cell_type": "code",
   "execution_count": null,
   "metadata": {},
   "outputs": [],
   "source": [
    "# describe dataset\n",
    "raw_df.describe(include = 'all')"
   ]
  },
  {
   "cell_type": "markdown",
   "metadata": {},
   "source": [
    "#### 3.4. Check Are there null values (how many)?"
   ]
  },
  {
   "cell_type": "code",
   "execution_count": null,
   "metadata": {},
   "outputs": [],
   "source": [
    "# Check for null values in dataset\n",
    "raw_df.isna().sum()"
   ]
  },
  {
   "cell_type": "markdown",
   "metadata": {},
   "source": [
    "#### 3.5. What correlations do this data set have?\n",
    "###### -> This would enable us to understand how closely related some features are."
   ]
  },
  {
   "cell_type": "code",
   "execution_count": null,
   "metadata": {},
   "outputs": [],
   "source": [
    "# Check data correlation\n",
    "raw_df.corr()"
   ]
  },
  {
   "cell_type": "code",
   "execution_count": null,
   "metadata": {},
   "outputs": [],
   "source": [
    "\"\"\"-> The most correlation was between the 'report_year' and the 'utility_id_ferc1', while the least correlation was between the 'fuel_mmbtu_per_unit' and the 'report_year'.\n",
    "There is a huge disjoint here, why?\"\"\""
   ]
  },
  {
   "cell_type": "markdown",
   "metadata": {},
   "source": [
    "#### 3.5. What are the least and most correlated features in the data set?"
   ]
  },
  {
   "cell_type": "code",
   "execution_count": null,
   "metadata": {},
   "outputs": [],
   "source": [
    "# Check if there is any correlation between axis='fuel_cost_per_unit_delivered' \n",
    "# and axis='fuel_cost_per_unit_burned'\n",
    "raw_df.corrwith(raw_df['fuel_cost_per_unit_delivered'])"
   ]
  },
  {
   "cell_type": "markdown",
   "metadata": {},
   "source": [
    "#### 3.7. Probability distribution density of the dataset (i.e using kurtosis() and skewness())"
   ]
  },
  {
   "cell_type": "code",
   "execution_count": null,
   "metadata": {},
   "outputs": [],
   "source": [
    "\"\"\" -> This would help in determining presence of outliers and column involved \"\"\""
   ]
  },
  {
   "cell_type": "code",
   "execution_count": null,
   "metadata": {},
   "outputs": [],
   "source": [
    "# Check for the peak and tails of the dataset using pd.DataFrame().kurtosis()\n",
    "raw_df.kurtosis(skipna=True,numeric_only=True) "
   ]
  },
  {
   "cell_type": "code",
   "execution_count": null,
   "metadata": {},
   "outputs": [],
   "source": [
    "# Check for the peak and tails of the dataset using pd.DataFrame().sew()\n",
    "# to determine the outliers in the dataset\n",
    "raw_df.skew() "
   ]
  },
  {
   "cell_type": "markdown",
   "metadata": {},
   "source": [
    "## 4. DataSet Cleaning and DataSet Wrangling"
   ]
  },
  {
   "cell_type": "markdown",
   "metadata": {},
   "source": [
    "#### 4.1. Task 1: Clean 'plant_name_ferc1'"
   ]
  },
  {
   "cell_type": "code",
   "execution_count": null,
   "metadata": {},
   "outputs": [],
   "source": [
    "# function to remove characters such as #,*,(,),&,. from the strings\n",
    "def replace_char(line): \n",
    "    return line.translate({ord(c): '' for c in '.#*$&-()_  '}) "
   ]
  },
  {
   "cell_type": "code",
   "execution_count": null,
   "metadata": {},
   "outputs": [],
   "source": [
    "# apply function to axis='plant_name_ferc1' to remove characters\n",
    "raw_df['plant_name_ferc1'] = raw_df['plant_name_ferc1'].apply(lambda x: replace_char(x))\n",
    "\n",
    "# display first 50 rows in the series 'plant_name_ferc1'\n",
    "raw_df['plant_name_ferc1'].head(5) "
   ]
  },
  {
   "cell_type": "code",
   "execution_count": null,
   "metadata": {},
   "outputs": [],
   "source": [
    "# Save modified dataframe to file\n",
    "raw_df.to_excel(file_path+\"\\\\\"+'Modified.xlsx','Modified')"
   ]
  },
  {
   "cell_type": "markdown",
   "metadata": {},
   "source": [
    "#### Task 2: remove null values in axis='fuel_unit'"
   ]
  },
  {
   "cell_type": "code",
   "execution_count": null,
   "metadata": {},
   "outputs": [],
   "source": [
    "#display first 5 rows of dataframe\n",
    "raw_df.head(5)"
   ]
  },
  {
   "cell_type": "code",
   "execution_count": null,
   "metadata": {},
   "outputs": [],
   "source": [
    "# display null values contained in the data set\n",
    "raw_df.isnull().sum()"
   ]
  },
  {
   "cell_type": "code",
   "execution_count": null,
   "metadata": {},
   "outputs": [],
   "source": [
    "raw_df.groupby('fuel_type_code_pudl')['fuel_unit'].value_counts()"
   ]
  },
  {
   "cell_type": "code",
   "execution_count": null,
   "metadata": {},
   "outputs": [],
   "source": [
    "# copy data frame\n",
    "copy_df = raw_df\n",
    "mode = []\n",
    "fuel_class = pd.DataFrame()\n",
    "\n",
    "fuel_type_list = copy_df['fuel_type_code_pudl'].unique()\n",
    "\n",
    "for fuel_type in fuel_type_list:\n",
    "    mode.append(copy_df.loc[copy_df['fuel_type_code_pudl']==fuel_type,'fuel_unit'].mode())\n",
    "\n",
    "fuel_class['Fuel Types'] = fuel_type_list\n",
    "fuel_class['Fuel Units'] = pd.DataFrame(mode)\n",
    "fuel_class"
   ]
  },
  {
   "cell_type": "code",
   "execution_count": null,
   "metadata": {},
   "outputs": [],
   "source": [
    " copy_df['fuel_type_code_pudl']   "
   ]
  },
  {
   "cell_type": "code",
   "execution_count": null,
   "metadata": {},
   "outputs": [],
   "source": [
    "# remove null values from axis='fuel_unit' by grouping axis='fuel_type_code_pudl'\n",
    "for index,fuel_type in fuel_class.iterrows():\n",
    "    print(fuel_type['Fuel Units'])"
   ]
  },
  {
   "cell_type": "code",
   "execution_count": null,
   "metadata": {},
   "outputs": [],
   "source": [
    "copy_df.isna().any()"
   ]
  },
  {
   "cell_type": "markdown",
   "metadata": {},
   "source": [
    "#### P"
   ]
  },
  {
   "cell_type": "code",
   "execution_count": null,
   "metadata": {},
   "outputs": [],
   "source": [
    "# remove null values from axis='fuel_unit' by grouping axis='fuel_type_code_pudl'\n",
    "for index,fuel_type in fuel_class.iterrows():\n",
    "    copy_df.loc[copy_df['fuel_type_code_pudl']==fuel_type['Fuel Types'],'fuel_unit'] = copy_df.loc[copy_df['fuel_type_code_pudl']==fuel_type['Fuel Types'],'fuel_unit'].fillna(value=fuel_type['Fuel Units'])\n",
    "\n",
    "copy_df.isnull().sum()"
   ]
  },
  {
   "cell_type": "code",
   "execution_count": null,
   "metadata": {},
   "outputs": [],
   "source": [
    "# Save modified dataframe to file\n",
    "copy_df.to_excel(file_path+\"\\\\\"+'Modified_1.xlsx','Modified')"
   ]
  },
  {
   "cell_type": "code",
   "execution_count": null,
   "metadata": {},
   "outputs": [],
   "source": [
    "copy_df.isna().any()"
   ]
  },
  {
   "cell_type": "markdown",
   "metadata": {},
   "source": [
    "#### Task 3: Fill the rows containing '0' in axis='fuel_cost_per_unit_delivered'"
   ]
  },
  {
   "cell_type": "markdown",
   "metadata": {},
   "source": [
    "##### convert 0 to nan"
   ]
  },
  {
   "cell_type": "code",
   "execution_count": null,
   "metadata": {},
   "outputs": [],
   "source": [
    "copy_df.loc[copy_df['fuel_cost_per_unit_delivered'] == 0].head(5)"
   ]
  },
  {
   "cell_type": "code",
   "execution_count": null,
   "metadata": {},
   "outputs": [],
   "source": [
    "copy_df1 = copy_df"
   ]
  },
  {
   "cell_type": "code",
   "execution_count": null,
   "metadata": {},
   "outputs": [],
   "source": [
    "copy_df1.loc[copy_df1['fuel_cost_per_unit_delivered']== 0].head()"
   ]
  },
  {
   "cell_type": "code",
   "execution_count": null,
   "metadata": {},
   "outputs": [],
   "source": [
    "# convert the '0' digits to null values\n",
    "copy_df1.loc[copy_df1['fuel_cost_per_unit_delivered']== 0,'fuel_cost_per_unit_delivered'] = np.nan\n",
    "\n",
    "# Check if conversion was successful\n",
    "copy_df1.isnull().sum()"
   ]
  },
  {
   "cell_type": "code",
   "execution_count": null,
   "metadata": {},
   "outputs": [],
   "source": [
    "# display the first 50 rows\n",
    "copy_df1.head(20)"
   ]
  },
  {
   "cell_type": "code",
   "execution_count": null,
   "metadata": {},
   "outputs": [],
   "source": [
    "# Save modified dataframe to file\n",
    "copy_df1.to_excel(file_path+\"\\\\\"+'Modified_2.xlsx','Modified')"
   ]
  },
  {
   "cell_type": "code",
   "execution_count": null,
   "metadata": {},
   "outputs": [],
   "source": [
    "# \n",
    "copy_df1['fuel_cost_per_unit_delivered'].interpolate(method='values',inplace=True)"
   ]
  },
  {
   "cell_type": "code",
   "execution_count": null,
   "metadata": {},
   "outputs": [],
   "source": [
    "copy_df1.isnull().sum()"
   ]
  },
  {
   "cell_type": "code",
   "execution_count": null,
   "metadata": {},
   "outputs": [],
   "source": [
    "copy_df1.head(20)"
   ]
  },
  {
   "cell_type": "code",
   "execution_count": null,
   "metadata": {},
   "outputs": [],
   "source": [
    "# Save modified dataframe to file\n",
    "copy_df1.to_excel(file_path+\"\\\\\"+'Modified_3.xlsx','Modified')"
   ]
  },
  {
   "cell_type": "markdown",
   "metadata": {},
   "source": [
    "## Data Visualization"
   ]
  },
  {
   "cell_type": "markdown",
   "metadata": {},
   "source": [
    "#### What is the cost of fuel burnt and delivered?"
   ]
  },
  {
   "cell_type": "code",
   "execution_count": null,
   "metadata": {},
   "outputs": [],
   "source": []
  },
  {
   "cell_type": "markdown",
   "metadata": {},
   "source": [
    "#### Which plant is the most efficient?"
   ]
  },
  {
   "cell_type": "code",
   "execution_count": null,
   "metadata": {},
   "outputs": [],
   "source": []
  },
  {
   "cell_type": "markdown",
   "metadata": {},
   "source": [
    "#### Which plant is the worst performing plant?"
   ]
  },
  {
   "cell_type": "code",
   "execution_count": null,
   "metadata": {},
   "outputs": [],
   "source": []
  },
  {
   "cell_type": "markdown",
   "metadata": {},
   "source": [
    "#### Which utilities are the best and worst performing"
   ]
  },
  {
   "cell_type": "code",
   "execution_count": null,
   "metadata": {},
   "outputs": [],
   "source": []
  },
  {
   "cell_type": "markdown",
   "metadata": {},
   "source": [
    "#### Which of the fuels are the most economical and efficient"
   ]
  },
  {
   "cell_type": "code",
   "execution_count": null,
   "metadata": {},
   "outputs": [],
   "source": []
  },
  {
   "cell_type": "markdown",
   "metadata": {},
   "source": [
    "#### What year was the best performing year independent of the cost of fuel per mmbtu?"
   ]
  },
  {
   "cell_type": "code",
   "execution_count": null,
   "metadata": {},
   "outputs": [],
   "source": []
  },
  {
   "cell_type": "markdown",
   "metadata": {},
   "source": [
    "#### What factors where responsible for the outstanding performance in question --- above?"
   ]
  },
  {
   "cell_type": "code",
   "execution_count": null,
   "metadata": {},
   "outputs": [],
   "source": []
  },
  {
   "cell_type": "markdown",
   "metadata": {},
   "source": [
    "#### Seeing the above what are your recommendations?"
   ]
  },
  {
   "cell_type": "code",
   "execution_count": null,
   "metadata": {},
   "outputs": [],
   "source": []
  },
  {
   "cell_type": "code",
   "execution_count": null,
   "metadata": {},
   "outputs": [],
   "source": []
  }
 ],
 "metadata": {
  "kernelspec": {
   "display_name": "Python 3",
   "language": "python",
   "name": "python3"
  },
  "language_info": {
   "codemirror_mode": {
    "name": "ipython",
    "version": 3
   },
   "file_extension": ".py",
   "mimetype": "text/x-python",
   "name": "python",
   "nbconvert_exporter": "python",
   "pygments_lexer": "ipython3",
   "version": "3.7.6"
  }
 },
 "nbformat": 4,
 "nbformat_minor": 4
}
