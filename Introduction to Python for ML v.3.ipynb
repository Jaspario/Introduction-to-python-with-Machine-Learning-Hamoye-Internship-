{
 "cells": [
  {
   "cell_type": "markdown",
   "metadata": {},
   "source": [
    "# Introduction to Python for Machine Learning (v 3.0)"
   ]
  },
  {
   "cell_type": "markdown",
   "metadata": {},
   "source": [
    "## 1. Import Libraries"
   ]
  },
  {
   "cell_type": "code",
   "execution_count": 2,
   "metadata": {},
   "outputs": [],
   "source": [
    "import pandas as pd\n",
    "import numpy as np\n",
    "import seaborn as sns \n",
    "import matplotlib.pyplot as plt\n",
    "import os"
   ]
  },
  {
   "cell_type": "markdown",
   "metadata": {},
   "source": [
    "## 2. Import Dataset"
   ]
  },
  {
   "cell_type": "markdown",
   "metadata": {},
   "source": [
    "#### 2.1. Create Directories and URL"
   ]
  },
  {
   "cell_type": "code",
   "execution_count": 3,
   "metadata": {},
   "outputs": [],
   "source": [
    "# Create url\n",
    "url = 'http://github.com/WalePhenomenon/climate_change/blob/master/fuel_ferc1.csv?raw=true'\n",
    "\n",
    "# variable to store file path\n",
    "file_path = r'DataSets'\n",
    "\n",
    "# variable to store file name\n",
    "file_name = 'fuel_dataset.xlsx'\n",
    "\n",
    "# variable to store file directory\n",
    "file_directory = file_path+\"\\\\\"+file_name\n",
    "\n",
    "# string variable to store sheet name\n",
    "excel_sheet = 'DataSet'\n",
    "\n",
    "# Create file directory\n",
    "os.makedirs(os.path.dirname(file_directory), exist_ok=True)"
   ]
  },
  {
   "cell_type": "markdown",
   "metadata": {},
   "source": [
    "#### 2.2. Import DataSet to Local directory"
   ]
  },
  {
   "cell_type": "code",
   "execution_count": 4,
   "metadata": {},
   "outputs": [
    {
     "name": "stdout",
     "output_type": "stream",
     "text": [
      "Fuel DataSet Loaded!\n"
     ]
    }
   ],
   "source": [
    "try: # try load from file\n",
    "    raw_df = pd.read_excel(file_directory, excel_sheet)\n",
    "    print(\"Fuel DataSet Loaded!\")\n",
    "except FileNotFoundError: \n",
    "    try: # try download data set from git repo\n",
    "        raw_df = pd.read_csv(url)\n",
    "        # Save to local storage\n",
    "        raw_df.to_excel(file_directory, excel_sheet, index=False) \n",
    "        print(\"File downloaded!\") \n",
    "    except OSError: \n",
    "        print('Network Connection Error!')"
   ]
  },
  {
   "cell_type": "markdown",
   "metadata": {},
   "source": [
    "## 3. Data Exploration \n",
    "###### -> Here we would try to understand our dataset"
   ]
  },
  {
   "cell_type": "markdown",
   "metadata": {},
   "source": [
    "#### 3.1. Display the data set"
   ]
  },
  {
   "cell_type": "code",
   "execution_count": 5,
   "metadata": {},
   "outputs": [
    {
     "data": {
      "text/html": [
       "<div>\n",
       "<style scoped>\n",
       "    .dataframe tbody tr th:only-of-type {\n",
       "        vertical-align: middle;\n",
       "    }\n",
       "\n",
       "    .dataframe tbody tr th {\n",
       "        vertical-align: top;\n",
       "    }\n",
       "\n",
       "    .dataframe thead th {\n",
       "        text-align: right;\n",
       "    }\n",
       "</style>\n",
       "<table border=\"1\" class=\"dataframe\">\n",
       "  <thead>\n",
       "    <tr style=\"text-align: right;\">\n",
       "      <th></th>\n",
       "      <th>record_id</th>\n",
       "      <th>utility_id_ferc1</th>\n",
       "      <th>report_year</th>\n",
       "      <th>plant_name_ferc1</th>\n",
       "      <th>fuel_type_code_pudl</th>\n",
       "      <th>fuel_unit</th>\n",
       "      <th>fuel_qty_burned</th>\n",
       "      <th>fuel_mmbtu_per_unit</th>\n",
       "      <th>fuel_cost_per_unit_burned</th>\n",
       "      <th>fuel_cost_per_unit_delivered</th>\n",
       "      <th>fuel_cost_per_mmbtu</th>\n",
       "    </tr>\n",
       "  </thead>\n",
       "  <tbody>\n",
       "    <tr>\n",
       "      <th>0</th>\n",
       "      <td>f1_fuel_1994_12_1_0_7</td>\n",
       "      <td>1</td>\n",
       "      <td>1994</td>\n",
       "      <td>rockport</td>\n",
       "      <td>coal</td>\n",
       "      <td>ton</td>\n",
       "      <td>5377489</td>\n",
       "      <td>16.590</td>\n",
       "      <td>18.59</td>\n",
       "      <td>18.53</td>\n",
       "      <td>1.121</td>\n",
       "    </tr>\n",
       "    <tr>\n",
       "      <th>1</th>\n",
       "      <td>f1_fuel_1994_12_1_0_10</td>\n",
       "      <td>1</td>\n",
       "      <td>1994</td>\n",
       "      <td>rockport total plant</td>\n",
       "      <td>coal</td>\n",
       "      <td>ton</td>\n",
       "      <td>10486945</td>\n",
       "      <td>16.592</td>\n",
       "      <td>18.58</td>\n",
       "      <td>18.53</td>\n",
       "      <td>1.120</td>\n",
       "    </tr>\n",
       "    <tr>\n",
       "      <th>2</th>\n",
       "      <td>f1_fuel_1994_12_2_0_1</td>\n",
       "      <td>2</td>\n",
       "      <td>1994</td>\n",
       "      <td>gorgas</td>\n",
       "      <td>coal</td>\n",
       "      <td>ton</td>\n",
       "      <td>2978683</td>\n",
       "      <td>24.130</td>\n",
       "      <td>39.72</td>\n",
       "      <td>38.12</td>\n",
       "      <td>1.650</td>\n",
       "    </tr>\n",
       "    <tr>\n",
       "      <th>3</th>\n",
       "      <td>f1_fuel_1994_12_2_0_7</td>\n",
       "      <td>2</td>\n",
       "      <td>1994</td>\n",
       "      <td>barry</td>\n",
       "      <td>coal</td>\n",
       "      <td>ton</td>\n",
       "      <td>3739484</td>\n",
       "      <td>23.950</td>\n",
       "      <td>47.21</td>\n",
       "      <td>45.99</td>\n",
       "      <td>1.970</td>\n",
       "    </tr>\n",
       "  </tbody>\n",
       "</table>\n",
       "</div>"
      ],
      "text/plain": [
       "                record_id  utility_id_ferc1  report_year  \\\n",
       "0   f1_fuel_1994_12_1_0_7                 1         1994   \n",
       "1  f1_fuel_1994_12_1_0_10                 1         1994   \n",
       "2   f1_fuel_1994_12_2_0_1                 2         1994   \n",
       "3   f1_fuel_1994_12_2_0_7                 2         1994   \n",
       "\n",
       "       plant_name_ferc1 fuel_type_code_pudl fuel_unit  fuel_qty_burned  \\\n",
       "0              rockport                coal       ton          5377489   \n",
       "1  rockport total plant                coal       ton         10486945   \n",
       "2                gorgas                coal       ton          2978683   \n",
       "3                 barry                coal       ton          3739484   \n",
       "\n",
       "   fuel_mmbtu_per_unit  fuel_cost_per_unit_burned  \\\n",
       "0               16.590                      18.59   \n",
       "1               16.592                      18.58   \n",
       "2               24.130                      39.72   \n",
       "3               23.950                      47.21   \n",
       "\n",
       "   fuel_cost_per_unit_delivered  fuel_cost_per_mmbtu  \n",
       "0                         18.53                1.121  \n",
       "1                         18.53                1.120  \n",
       "2                         38.12                1.650  \n",
       "3                         45.99                1.970  "
      ]
     },
     "execution_count": 5,
     "metadata": {},
     "output_type": "execute_result"
    }
   ],
   "source": [
    "# Display first 4 rows\n",
    "raw_df.head(4)"
   ]
  },
  {
   "cell_type": "markdown",
   "metadata": {},
   "source": [
    "#### 3.2. Display dataset info"
   ]
  },
  {
   "cell_type": "code",
   "execution_count": 6,
   "metadata": {},
   "outputs": [
    {
     "name": "stdout",
     "output_type": "stream",
     "text": [
      "<class 'pandas.core.frame.DataFrame'>\n",
      "RangeIndex: 29523 entries, 0 to 29522\n",
      "Data columns (total 11 columns):\n",
      " #   Column                        Dtype  \n",
      "---  ------                        -----  \n",
      " 0   record_id                     object \n",
      " 1   utility_id_ferc1              int64  \n",
      " 2   report_year                   int64  \n",
      " 3   plant_name_ferc1              object \n",
      " 4   fuel_type_code_pudl           object \n",
      " 5   fuel_unit                     object \n",
      " 6   fuel_qty_burned               int64  \n",
      " 7   fuel_mmbtu_per_unit           float64\n",
      " 8   fuel_cost_per_unit_burned     float64\n",
      " 9   fuel_cost_per_unit_delivered  float64\n",
      " 10  fuel_cost_per_mmbtu           float64\n",
      "dtypes: float64(4), int64(3), object(4)\n",
      "memory usage: 2.5+ MB\n"
     ]
    }
   ],
   "source": [
    "# Get data set info\n",
    "raw_df.info(verbose=True, null_counts=False)"
   ]
  },
  {
   "cell_type": "markdown",
   "metadata": {},
   "source": [
    "#### 3.3. Describe the data set to understand the relations, dependencies, frequencies and unique features"
   ]
  },
  {
   "cell_type": "code",
   "execution_count": 7,
   "metadata": {},
   "outputs": [
    {
     "data": {
      "text/html": [
       "<div>\n",
       "<style scoped>\n",
       "    .dataframe tbody tr th:only-of-type {\n",
       "        vertical-align: middle;\n",
       "    }\n",
       "\n",
       "    .dataframe tbody tr th {\n",
       "        vertical-align: top;\n",
       "    }\n",
       "\n",
       "    .dataframe thead th {\n",
       "        text-align: right;\n",
       "    }\n",
       "</style>\n",
       "<table border=\"1\" class=\"dataframe\">\n",
       "  <thead>\n",
       "    <tr style=\"text-align: right;\">\n",
       "      <th></th>\n",
       "      <th>record_id</th>\n",
       "      <th>utility_id_ferc1</th>\n",
       "      <th>report_year</th>\n",
       "      <th>plant_name_ferc1</th>\n",
       "      <th>fuel_type_code_pudl</th>\n",
       "      <th>fuel_unit</th>\n",
       "      <th>fuel_qty_burned</th>\n",
       "      <th>fuel_mmbtu_per_unit</th>\n",
       "      <th>fuel_cost_per_unit_burned</th>\n",
       "      <th>fuel_cost_per_unit_delivered</th>\n",
       "      <th>fuel_cost_per_mmbtu</th>\n",
       "    </tr>\n",
       "  </thead>\n",
       "  <tbody>\n",
       "    <tr>\n",
       "      <th>count</th>\n",
       "      <td>29523</td>\n",
       "      <td>29523.000000</td>\n",
       "      <td>29523.000000</td>\n",
       "      <td>29523</td>\n",
       "      <td>29523</td>\n",
       "      <td>29343</td>\n",
       "      <td>2.952300e+04</td>\n",
       "      <td>29523.000000</td>\n",
       "      <td>29523.000000</td>\n",
       "      <td>2.952300e+04</td>\n",
       "      <td>29523.000000</td>\n",
       "    </tr>\n",
       "    <tr>\n",
       "      <th>unique</th>\n",
       "      <td>29523</td>\n",
       "      <td>NaN</td>\n",
       "      <td>NaN</td>\n",
       "      <td>2315</td>\n",
       "      <td>6</td>\n",
       "      <td>9</td>\n",
       "      <td>NaN</td>\n",
       "      <td>NaN</td>\n",
       "      <td>NaN</td>\n",
       "      <td>NaN</td>\n",
       "      <td>NaN</td>\n",
       "    </tr>\n",
       "    <tr>\n",
       "      <th>top</th>\n",
       "      <td>f1_fuel_2004_12_195_1_9</td>\n",
       "      <td>NaN</td>\n",
       "      <td>NaN</td>\n",
       "      <td>big stone</td>\n",
       "      <td>gas</td>\n",
       "      <td>mcf</td>\n",
       "      <td>NaN</td>\n",
       "      <td>NaN</td>\n",
       "      <td>NaN</td>\n",
       "      <td>NaN</td>\n",
       "      <td>NaN</td>\n",
       "    </tr>\n",
       "    <tr>\n",
       "      <th>freq</th>\n",
       "      <td>1</td>\n",
       "      <td>NaN</td>\n",
       "      <td>NaN</td>\n",
       "      <td>156</td>\n",
       "      <td>11486</td>\n",
       "      <td>11354</td>\n",
       "      <td>NaN</td>\n",
       "      <td>NaN</td>\n",
       "      <td>NaN</td>\n",
       "      <td>NaN</td>\n",
       "      <td>NaN</td>\n",
       "    </tr>\n",
       "    <tr>\n",
       "      <th>mean</th>\n",
       "      <td>NaN</td>\n",
       "      <td>118.601836</td>\n",
       "      <td>2005.806050</td>\n",
       "      <td>NaN</td>\n",
       "      <td>NaN</td>\n",
       "      <td>NaN</td>\n",
       "      <td>2.622119e+06</td>\n",
       "      <td>8.492111</td>\n",
       "      <td>208.649031</td>\n",
       "      <td>9.175704e+02</td>\n",
       "      <td>19.304354</td>\n",
       "    </tr>\n",
       "    <tr>\n",
       "      <th>std</th>\n",
       "      <td>NaN</td>\n",
       "      <td>74.178353</td>\n",
       "      <td>7.025483</td>\n",
       "      <td>NaN</td>\n",
       "      <td>NaN</td>\n",
       "      <td>NaN</td>\n",
       "      <td>9.118004e+06</td>\n",
       "      <td>10.600220</td>\n",
       "      <td>2854.490090</td>\n",
       "      <td>6.877593e+04</td>\n",
       "      <td>2091.540939</td>\n",
       "    </tr>\n",
       "    <tr>\n",
       "      <th>min</th>\n",
       "      <td>NaN</td>\n",
       "      <td>1.000000</td>\n",
       "      <td>1994.000000</td>\n",
       "      <td>NaN</td>\n",
       "      <td>NaN</td>\n",
       "      <td>NaN</td>\n",
       "      <td>1.000000e+00</td>\n",
       "      <td>0.000001</td>\n",
       "      <td>-276.080000</td>\n",
       "      <td>-8.749370e+02</td>\n",
       "      <td>-41.501000</td>\n",
       "    </tr>\n",
       "    <tr>\n",
       "      <th>25%</th>\n",
       "      <td>NaN</td>\n",
       "      <td>55.000000</td>\n",
       "      <td>2000.000000</td>\n",
       "      <td>NaN</td>\n",
       "      <td>NaN</td>\n",
       "      <td>NaN</td>\n",
       "      <td>1.381700e+04</td>\n",
       "      <td>1.024000</td>\n",
       "      <td>5.207000</td>\n",
       "      <td>3.778500e+00</td>\n",
       "      <td>1.940000</td>\n",
       "    </tr>\n",
       "    <tr>\n",
       "      <th>50%</th>\n",
       "      <td>NaN</td>\n",
       "      <td>122.000000</td>\n",
       "      <td>2006.000000</td>\n",
       "      <td>NaN</td>\n",
       "      <td>NaN</td>\n",
       "      <td>NaN</td>\n",
       "      <td>2.533220e+05</td>\n",
       "      <td>5.762694</td>\n",
       "      <td>26.000000</td>\n",
       "      <td>1.737100e+01</td>\n",
       "      <td>4.127000</td>\n",
       "    </tr>\n",
       "    <tr>\n",
       "      <th>75%</th>\n",
       "      <td>NaN</td>\n",
       "      <td>176.000000</td>\n",
       "      <td>2012.000000</td>\n",
       "      <td>NaN</td>\n",
       "      <td>NaN</td>\n",
       "      <td>NaN</td>\n",
       "      <td>1.424034e+06</td>\n",
       "      <td>17.006000</td>\n",
       "      <td>47.113000</td>\n",
       "      <td>4.213700e+01</td>\n",
       "      <td>7.745000</td>\n",
       "    </tr>\n",
       "    <tr>\n",
       "      <th>max</th>\n",
       "      <td>NaN</td>\n",
       "      <td>514.000000</td>\n",
       "      <td>2018.000000</td>\n",
       "      <td>NaN</td>\n",
       "      <td>NaN</td>\n",
       "      <td>NaN</td>\n",
       "      <td>5.558942e+08</td>\n",
       "      <td>341.260000</td>\n",
       "      <td>139358.000000</td>\n",
       "      <td>7.964521e+06</td>\n",
       "      <td>359278.000000</td>\n",
       "    </tr>\n",
       "  </tbody>\n",
       "</table>\n",
       "</div>"
      ],
      "text/plain": [
       "                      record_id  utility_id_ferc1   report_year  \\\n",
       "count                     29523      29523.000000  29523.000000   \n",
       "unique                    29523               NaN           NaN   \n",
       "top     f1_fuel_2004_12_195_1_9               NaN           NaN   \n",
       "freq                          1               NaN           NaN   \n",
       "mean                        NaN        118.601836   2005.806050   \n",
       "std                         NaN         74.178353      7.025483   \n",
       "min                         NaN          1.000000   1994.000000   \n",
       "25%                         NaN         55.000000   2000.000000   \n",
       "50%                         NaN        122.000000   2006.000000   \n",
       "75%                         NaN        176.000000   2012.000000   \n",
       "max                         NaN        514.000000   2018.000000   \n",
       "\n",
       "       plant_name_ferc1 fuel_type_code_pudl fuel_unit  fuel_qty_burned  \\\n",
       "count             29523               29523     29343     2.952300e+04   \n",
       "unique             2315                   6         9              NaN   \n",
       "top           big stone                 gas       mcf              NaN   \n",
       "freq                156               11486     11354              NaN   \n",
       "mean                NaN                 NaN       NaN     2.622119e+06   \n",
       "std                 NaN                 NaN       NaN     9.118004e+06   \n",
       "min                 NaN                 NaN       NaN     1.000000e+00   \n",
       "25%                 NaN                 NaN       NaN     1.381700e+04   \n",
       "50%                 NaN                 NaN       NaN     2.533220e+05   \n",
       "75%                 NaN                 NaN       NaN     1.424034e+06   \n",
       "max                 NaN                 NaN       NaN     5.558942e+08   \n",
       "\n",
       "        fuel_mmbtu_per_unit  fuel_cost_per_unit_burned  \\\n",
       "count          29523.000000               29523.000000   \n",
       "unique                  NaN                        NaN   \n",
       "top                     NaN                        NaN   \n",
       "freq                    NaN                        NaN   \n",
       "mean               8.492111                 208.649031   \n",
       "std               10.600220                2854.490090   \n",
       "min                0.000001                -276.080000   \n",
       "25%                1.024000                   5.207000   \n",
       "50%                5.762694                  26.000000   \n",
       "75%               17.006000                  47.113000   \n",
       "max              341.260000              139358.000000   \n",
       "\n",
       "        fuel_cost_per_unit_delivered  fuel_cost_per_mmbtu  \n",
       "count                   2.952300e+04         29523.000000  \n",
       "unique                           NaN                  NaN  \n",
       "top                              NaN                  NaN  \n",
       "freq                             NaN                  NaN  \n",
       "mean                    9.175704e+02            19.304354  \n",
       "std                     6.877593e+04          2091.540939  \n",
       "min                    -8.749370e+02           -41.501000  \n",
       "25%                     3.778500e+00             1.940000  \n",
       "50%                     1.737100e+01             4.127000  \n",
       "75%                     4.213700e+01             7.745000  \n",
       "max                     7.964521e+06        359278.000000  "
      ]
     },
     "execution_count": 7,
     "metadata": {},
     "output_type": "execute_result"
    }
   ],
   "source": [
    "# describe dataset\n",
    "raw_df.describe(include = 'all')"
   ]
  },
  {
   "cell_type": "markdown",
   "metadata": {},
   "source": [
    "#### 3.4. Check Are there null values (how many)?"
   ]
  },
  {
   "cell_type": "code",
   "execution_count": 8,
   "metadata": {},
   "outputs": [
    {
     "data": {
      "text/plain": [
       "record_id                         0\n",
       "utility_id_ferc1                  0\n",
       "report_year                       0\n",
       "plant_name_ferc1                  0\n",
       "fuel_type_code_pudl               0\n",
       "fuel_unit                       180\n",
       "fuel_qty_burned                   0\n",
       "fuel_mmbtu_per_unit               0\n",
       "fuel_cost_per_unit_burned         0\n",
       "fuel_cost_per_unit_delivered      0\n",
       "fuel_cost_per_mmbtu               0\n",
       "dtype: int64"
      ]
     },
     "execution_count": 8,
     "metadata": {},
     "output_type": "execute_result"
    }
   ],
   "source": [
    "# Check for null values in dataset\n",
    "raw_df.isna().sum()"
   ]
  },
  {
   "cell_type": "markdown",
   "metadata": {},
   "source": [
    "#### 3.5. What correlations do this data set have?\n",
    "###### -> This would enable us to understand how closely related some features are."
   ]
  },
  {
   "cell_type": "code",
   "execution_count": 9,
   "metadata": {},
   "outputs": [
    {
     "data": {
      "text/html": [
       "<div>\n",
       "<style scoped>\n",
       "    .dataframe tbody tr th:only-of-type {\n",
       "        vertical-align: middle;\n",
       "    }\n",
       "\n",
       "    .dataframe tbody tr th {\n",
       "        vertical-align: top;\n",
       "    }\n",
       "\n",
       "    .dataframe thead th {\n",
       "        text-align: right;\n",
       "    }\n",
       "</style>\n",
       "<table border=\"1\" class=\"dataframe\">\n",
       "  <thead>\n",
       "    <tr style=\"text-align: right;\">\n",
       "      <th></th>\n",
       "      <th>utility_id_ferc1</th>\n",
       "      <th>report_year</th>\n",
       "      <th>fuel_qty_burned</th>\n",
       "      <th>fuel_mmbtu_per_unit</th>\n",
       "      <th>fuel_cost_per_unit_burned</th>\n",
       "      <th>fuel_cost_per_unit_delivered</th>\n",
       "      <th>fuel_cost_per_mmbtu</th>\n",
       "    </tr>\n",
       "  </thead>\n",
       "  <tbody>\n",
       "    <tr>\n",
       "      <th>utility_id_ferc1</th>\n",
       "      <td>1.000000</td>\n",
       "      <td>0.093323</td>\n",
       "      <td>-0.057447</td>\n",
       "      <td>-0.066946</td>\n",
       "      <td>-0.037863</td>\n",
       "      <td>-0.016414</td>\n",
       "      <td>0.006122</td>\n",
       "    </tr>\n",
       "    <tr>\n",
       "      <th>report_year</th>\n",
       "      <td>0.093323</td>\n",
       "      <td>1.000000</td>\n",
       "      <td>0.012952</td>\n",
       "      <td>-0.110853</td>\n",
       "      <td>0.013599</td>\n",
       "      <td>-0.014043</td>\n",
       "      <td>0.010261</td>\n",
       "    </tr>\n",
       "    <tr>\n",
       "      <th>fuel_qty_burned</th>\n",
       "      <td>-0.057447</td>\n",
       "      <td>0.012952</td>\n",
       "      <td>1.000000</td>\n",
       "      <td>-0.080946</td>\n",
       "      <td>-0.018535</td>\n",
       "      <td>-0.003551</td>\n",
       "      <td>-0.001896</td>\n",
       "    </tr>\n",
       "    <tr>\n",
       "      <th>fuel_mmbtu_per_unit</th>\n",
       "      <td>-0.066946</td>\n",
       "      <td>-0.110853</td>\n",
       "      <td>-0.080946</td>\n",
       "      <td>1.000000</td>\n",
       "      <td>-0.010034</td>\n",
       "      <td>-0.009039</td>\n",
       "      <td>-0.005884</td>\n",
       "    </tr>\n",
       "    <tr>\n",
       "      <th>fuel_cost_per_unit_burned</th>\n",
       "      <td>-0.037863</td>\n",
       "      <td>0.013599</td>\n",
       "      <td>-0.018535</td>\n",
       "      <td>-0.010034</td>\n",
       "      <td>1.000000</td>\n",
       "      <td>0.011007</td>\n",
       "      <td>-0.000437</td>\n",
       "    </tr>\n",
       "    <tr>\n",
       "      <th>fuel_cost_per_unit_delivered</th>\n",
       "      <td>-0.016414</td>\n",
       "      <td>-0.014043</td>\n",
       "      <td>-0.003551</td>\n",
       "      <td>-0.009039</td>\n",
       "      <td>0.011007</td>\n",
       "      <td>1.000000</td>\n",
       "      <td>-0.000109</td>\n",
       "    </tr>\n",
       "    <tr>\n",
       "      <th>fuel_cost_per_mmbtu</th>\n",
       "      <td>0.006122</td>\n",
       "      <td>0.010261</td>\n",
       "      <td>-0.001896</td>\n",
       "      <td>-0.005884</td>\n",
       "      <td>-0.000437</td>\n",
       "      <td>-0.000109</td>\n",
       "      <td>1.000000</td>\n",
       "    </tr>\n",
       "  </tbody>\n",
       "</table>\n",
       "</div>"
      ],
      "text/plain": [
       "                              utility_id_ferc1  report_year  fuel_qty_burned  \\\n",
       "utility_id_ferc1                      1.000000     0.093323        -0.057447   \n",
       "report_year                           0.093323     1.000000         0.012952   \n",
       "fuel_qty_burned                      -0.057447     0.012952         1.000000   \n",
       "fuel_mmbtu_per_unit                  -0.066946    -0.110853        -0.080946   \n",
       "fuel_cost_per_unit_burned            -0.037863     0.013599        -0.018535   \n",
       "fuel_cost_per_unit_delivered         -0.016414    -0.014043        -0.003551   \n",
       "fuel_cost_per_mmbtu                   0.006122     0.010261        -0.001896   \n",
       "\n",
       "                              fuel_mmbtu_per_unit  fuel_cost_per_unit_burned  \\\n",
       "utility_id_ferc1                        -0.066946                  -0.037863   \n",
       "report_year                             -0.110853                   0.013599   \n",
       "fuel_qty_burned                         -0.080946                  -0.018535   \n",
       "fuel_mmbtu_per_unit                      1.000000                  -0.010034   \n",
       "fuel_cost_per_unit_burned               -0.010034                   1.000000   \n",
       "fuel_cost_per_unit_delivered            -0.009039                   0.011007   \n",
       "fuel_cost_per_mmbtu                     -0.005884                  -0.000437   \n",
       "\n",
       "                              fuel_cost_per_unit_delivered  \\\n",
       "utility_id_ferc1                                 -0.016414   \n",
       "report_year                                      -0.014043   \n",
       "fuel_qty_burned                                  -0.003551   \n",
       "fuel_mmbtu_per_unit                              -0.009039   \n",
       "fuel_cost_per_unit_burned                         0.011007   \n",
       "fuel_cost_per_unit_delivered                      1.000000   \n",
       "fuel_cost_per_mmbtu                              -0.000109   \n",
       "\n",
       "                              fuel_cost_per_mmbtu  \n",
       "utility_id_ferc1                         0.006122  \n",
       "report_year                              0.010261  \n",
       "fuel_qty_burned                         -0.001896  \n",
       "fuel_mmbtu_per_unit                     -0.005884  \n",
       "fuel_cost_per_unit_burned               -0.000437  \n",
       "fuel_cost_per_unit_delivered            -0.000109  \n",
       "fuel_cost_per_mmbtu                      1.000000  "
      ]
     },
     "execution_count": 9,
     "metadata": {},
     "output_type": "execute_result"
    }
   ],
   "source": [
    "# Check data correlation\n",
    "raw_df.corr()"
   ]
  },
  {
   "cell_type": "code",
   "execution_count": 10,
   "metadata": {},
   "outputs": [
    {
     "data": {
      "text/plain": [
       "\"-> The most correlation was between the 'report_year' and the 'utility_id_ferc1', while the least correlation was between the 'fuel_mmbtu_per_unit' and the 'report_year'.\\nThere is a huge disjoint here, why?\""
      ]
     },
     "execution_count": 10,
     "metadata": {},
     "output_type": "execute_result"
    }
   ],
   "source": [
    "\"\"\"-> The most correlation was between the 'report_year' and the 'utility_id_ferc1', while the least correlation was between the 'fuel_mmbtu_per_unit' and the 'report_year'.\n",
    "There is a huge disjoint here, why?\"\"\""
   ]
  },
  {
   "cell_type": "markdown",
   "metadata": {},
   "source": [
    "#### 3.6. What are the least and most correlated features in the data set?"
   ]
  },
  {
   "cell_type": "code",
   "execution_count": 11,
   "metadata": {},
   "outputs": [
    {
     "data": {
      "text/plain": [
       "utility_id_ferc1               -0.016414\n",
       "report_year                    -0.014043\n",
       "fuel_qty_burned                -0.003551\n",
       "fuel_mmbtu_per_unit            -0.009039\n",
       "fuel_cost_per_unit_burned       0.011007\n",
       "fuel_cost_per_unit_delivered    1.000000\n",
       "fuel_cost_per_mmbtu            -0.000109\n",
       "dtype: float64"
      ]
     },
     "execution_count": 11,
     "metadata": {},
     "output_type": "execute_result"
    }
   ],
   "source": [
    "# Check if there is any correlation between axis='fuel_cost_per_unit_delivered' \n",
    "# and axis='fuel_cost_per_unit_burned'\n",
    "raw_df.corrwith(raw_df['fuel_cost_per_unit_delivered'])"
   ]
  },
  {
   "cell_type": "markdown",
   "metadata": {},
   "source": [
    "#### 3.7. Probability distribution density of the dataset (i.e using kurtosis() and skewness())"
   ]
  },
  {
   "cell_type": "code",
   "execution_count": 12,
   "metadata": {},
   "outputs": [
    {
     "data": {
      "text/plain": [
       "' -> This would help in determining presence of outliers and column involved '"
      ]
     },
     "execution_count": 12,
     "metadata": {},
     "output_type": "execute_result"
    }
   ],
   "source": [
    "\"\"\" -> This would help in determining presence of outliers and column involved \"\"\""
   ]
  },
  {
   "cell_type": "code",
   "execution_count": 13,
   "metadata": {},
   "outputs": [
    {
     "data": {
      "text/plain": [
       "utility_id_ferc1                    1.088432\n",
       "report_year                        -1.145656\n",
       "fuel_qty_burned                   651.369450\n",
       "fuel_mmbtu_per_unit                55.595695\n",
       "fuel_cost_per_unit_burned         485.255851\n",
       "fuel_cost_per_unit_delivered    11765.054226\n",
       "fuel_cost_per_mmbtu             29489.132594\n",
       "dtype: float64"
      ]
     },
     "execution_count": 13,
     "metadata": {},
     "output_type": "execute_result"
    }
   ],
   "source": [
    "# Check for the peak and tails of the dataset using pd.DataFrame().kurtosis()\n",
    "# to determine the outliers in the dataset\n",
    "raw_df.kurtosis()"
   ]
  },
  {
   "cell_type": "code",
   "execution_count": 14,
   "metadata": {},
   "outputs": [
    {
     "data": {
      "text/plain": [
       "utility_id_ferc1                  0.605070\n",
       "report_year                       0.006953\n",
       "fuel_qty_burned                  15.851495\n",
       "fuel_mmbtu_per_unit               4.135217\n",
       "fuel_cost_per_unit_burned        19.787440\n",
       "fuel_cost_per_unit_delivered    105.014227\n",
       "fuel_cost_per_mmbtu             171.675535\n",
       "dtype: float64"
      ]
     },
     "execution_count": 14,
     "metadata": {},
     "output_type": "execute_result"
    }
   ],
   "source": [
    "# Check for the peak and tails of the dataset using pd.DataFrame().sew()\n",
    "# to determine the outliers in the dataset\n",
    "raw_df.skew()"
   ]
  },
  {
   "cell_type": "markdown",
   "metadata": {},
   "source": [
    "## 4. Data Cleaning and Data Wrangling"
   ]
  },
  {
   "cell_type": "markdown",
   "metadata": {},
   "source": [
    "###### -> This is section is divided into Tasks:"
   ]
  },
  {
   "cell_type": "markdown",
   "metadata": {},
   "source": [
    "#### 4.1. Task 1: Clean columns = 'plant_name_ferc1'"
   ]
  },
  {
   "cell_type": "code",
   "execution_count": 15,
   "metadata": {},
   "outputs": [
    {
     "data": {
      "text/plain": [
       "0                rockport\n",
       "1    rockport total plant\n",
       "2                  gorgas\n",
       "3                   barry\n",
       "4               chickasaw\n",
       "Name: plant_name_ferc1, dtype: object"
      ]
     },
     "execution_count": 15,
     "metadata": {},
     "output_type": "execute_result"
    }
   ],
   "source": [
    "# display rows column = 'plant_name_ferc1' before cleaning\n",
    "raw_df['plant_name_ferc1'].head(5) "
   ]
  },
  {
   "cell_type": "code",
   "execution_count": 16,
   "metadata": {},
   "outputs": [],
   "source": [
    "# function to remove characters such as #,*,(,),&,. from the strings & cluster them together which\n",
    "# would improve uniqueness of the plant names\n",
    "def clean_string(string):  \n",
    "    return string.translate({ord(c): '' for c in '.#*$&()'}) "
   ]
  },
  {
   "cell_type": "code",
   "execution_count": 17,
   "metadata": {},
   "outputs": [],
   "source": [
    "# apply function to columns='plant_name_ferc1' to remove characters\n",
    "raw_df['plant_name_ferc1'] = raw_df['plant_name_ferc1'].apply(lambda x: clean_string(x))"
   ]
  },
  {
   "cell_type": "code",
   "execution_count": 18,
   "metadata": {},
   "outputs": [
    {
     "data": {
      "text/plain": [
       "0                 rockport\n",
       "1     rockport total plant\n",
       "2                   gorgas\n",
       "3                    barry\n",
       "4                chickasaw\n",
       "5        e c gaston-unit 5\n",
       "6          joseph m farley\n",
       "7      resondent's portion\n",
       "8     respondent's portion\n",
       "9                units 1-3\n",
       "10               units 1-3\n",
       "11                  unit 4\n",
       "12                  unit 4\n",
       "13            clinch river\n",
       "14            clinch river\n",
       "15         amos-apco share\n",
       "16              amos-total\n",
       "17                glen lyn\n",
       "18           kanawha river\n",
       "19           kanawha river\n",
       "20               mountainr\n",
       "21               mountainr\n",
       "22       philip sporn-apco\n",
       "23       philip sporn-apco\n",
       "24    philip sporn ttl plt\n",
       "25    philip sporn ttl plt\n",
       "26      cholla units 1,2,3\n",
       "27      cholla units 1,2,3\n",
       "28      cholla units 1,2,3\n",
       "29               4 corners\n",
       "Name: plant_name_ferc1, dtype: object"
      ]
     },
     "execution_count": 18,
     "metadata": {},
     "output_type": "execute_result"
    }
   ],
   "source": [
    "# check the first 10 words \n",
    "raw_df['plant_name_ferc1'].head(30)"
   ]
  },
  {
   "cell_type": "code",
   "execution_count": 19,
   "metadata": {},
   "outputs": [
    {
     "data": {
      "text/html": [
       "<div>\n",
       "<style scoped>\n",
       "    .dataframe tbody tr th:only-of-type {\n",
       "        vertical-align: middle;\n",
       "    }\n",
       "\n",
       "    .dataframe tbody tr th {\n",
       "        vertical-align: top;\n",
       "    }\n",
       "\n",
       "    .dataframe thead th {\n",
       "        text-align: right;\n",
       "    }\n",
       "</style>\n",
       "<table border=\"1\" class=\"dataframe\">\n",
       "  <thead>\n",
       "    <tr style=\"text-align: right;\">\n",
       "      <th></th>\n",
       "      <th>record_id</th>\n",
       "      <th>utility_id_ferc1</th>\n",
       "      <th>report_year</th>\n",
       "      <th>plant_name_ferc1</th>\n",
       "      <th>fuel_type_code_pudl</th>\n",
       "      <th>fuel_unit</th>\n",
       "      <th>fuel_qty_burned</th>\n",
       "      <th>fuel_mmbtu_per_unit</th>\n",
       "      <th>fuel_cost_per_unit_burned</th>\n",
       "      <th>fuel_cost_per_unit_delivered</th>\n",
       "      <th>fuel_cost_per_mmbtu</th>\n",
       "    </tr>\n",
       "  </thead>\n",
       "  <tbody>\n",
       "    <tr>\n",
       "      <th>1</th>\n",
       "      <td>f1_fuel_1994_12_1_0_10</td>\n",
       "      <td>1</td>\n",
       "      <td>1994</td>\n",
       "      <td>rockport total plant</td>\n",
       "      <td>coal</td>\n",
       "      <td>ton</td>\n",
       "      <td>10486945</td>\n",
       "      <td>16.592</td>\n",
       "      <td>18.580</td>\n",
       "      <td>18.530</td>\n",
       "      <td>1.12000</td>\n",
       "    </tr>\n",
       "    <tr>\n",
       "      <th>16</th>\n",
       "      <td>f1_fuel_1994_12_6_0_7</td>\n",
       "      <td>6</td>\n",
       "      <td>1994</td>\n",
       "      <td>amos-total</td>\n",
       "      <td>coal</td>\n",
       "      <td>ton</td>\n",
       "      <td>5327281</td>\n",
       "      <td>24.538</td>\n",
       "      <td>44.312</td>\n",
       "      <td>42.940</td>\n",
       "      <td>1.80600</td>\n",
       "    </tr>\n",
       "    <tr>\n",
       "      <th>89</th>\n",
       "      <td>f1_fuel_1994_12_12_0_11</td>\n",
       "      <td>12</td>\n",
       "      <td>1994</td>\n",
       "      <td>osage plant</td>\n",
       "      <td>coal</td>\n",
       "      <td>ton</td>\n",
       "      <td>205675</td>\n",
       "      <td>16.010</td>\n",
       "      <td>14.720</td>\n",
       "      <td>14.300</td>\n",
       "      <td>0.91900</td>\n",
       "    </tr>\n",
       "    <tr>\n",
       "      <th>90</th>\n",
       "      <td>f1_fuel_1994_12_12_0_14</td>\n",
       "      <td>12</td>\n",
       "      <td>1994</td>\n",
       "      <td>wyodak plant</td>\n",
       "      <td>coal</td>\n",
       "      <td>ton</td>\n",
       "      <td>391234</td>\n",
       "      <td>15.896</td>\n",
       "      <td>10.100</td>\n",
       "      <td>9.670</td>\n",
       "      <td>0.63500</td>\n",
       "    </tr>\n",
       "    <tr>\n",
       "      <th>173</th>\n",
       "      <td>f1_fuel_1994_12_44_0_2</td>\n",
       "      <td>44</td>\n",
       "      <td>1994</td>\n",
       "      <td>belle river total</td>\n",
       "      <td>coal</td>\n",
       "      <td>ton</td>\n",
       "      <td>4996518</td>\n",
       "      <td>18.706</td>\n",
       "      <td>27.620</td>\n",
       "      <td>27.620</td>\n",
       "      <td>1.47600</td>\n",
       "    </tr>\n",
       "    <tr>\n",
       "      <th>...</th>\n",
       "      <td>...</td>\n",
       "      <td>...</td>\n",
       "      <td>...</td>\n",
       "      <td>...</td>\n",
       "      <td>...</td>\n",
       "      <td>...</td>\n",
       "      <td>...</td>\n",
       "      <td>...</td>\n",
       "      <td>...</td>\n",
       "      <td>...</td>\n",
       "      <td>...</td>\n",
       "    </tr>\n",
       "    <tr>\n",
       "      <th>29475</th>\n",
       "      <td>f1_fuel_2018_12_193_1_1</td>\n",
       "      <td>193</td>\n",
       "      <td>2018</td>\n",
       "      <td>presque isle-total</td>\n",
       "      <td>coal</td>\n",
       "      <td>ton</td>\n",
       "      <td>1029238</td>\n",
       "      <td>18.024</td>\n",
       "      <td>42.557</td>\n",
       "      <td>42.557</td>\n",
       "      <td>2.36112</td>\n",
       "    </tr>\n",
       "    <tr>\n",
       "      <th>29476</th>\n",
       "      <td>f1_fuel_2018_12_193_1_5</td>\n",
       "      <td>193</td>\n",
       "      <td>2018</td>\n",
       "      <td>pt washington-total</td>\n",
       "      <td>gas</td>\n",
       "      <td>mcf</td>\n",
       "      <td>39905100</td>\n",
       "      <td>1.010</td>\n",
       "      <td>3.211</td>\n",
       "      <td>3.211</td>\n",
       "      <td>3.18960</td>\n",
       "    </tr>\n",
       "    <tr>\n",
       "      <th>29479</th>\n",
       "      <td>f1_fuel_2018_12_193_1_10</td>\n",
       "      <td>193</td>\n",
       "      <td>2018</td>\n",
       "      <td>so oak creek-total</td>\n",
       "      <td>coal</td>\n",
       "      <td>ton</td>\n",
       "      <td>2784916</td>\n",
       "      <td>17.568</td>\n",
       "      <td>36.526</td>\n",
       "      <td>36.526</td>\n",
       "      <td>2.07912</td>\n",
       "    </tr>\n",
       "    <tr>\n",
       "      <th>29480</th>\n",
       "      <td>f1_fuel_2018_12_193_1_12</td>\n",
       "      <td>193</td>\n",
       "      <td>2018</td>\n",
       "      <td>so oak creek-total</td>\n",
       "      <td>gas</td>\n",
       "      <td>mcf</td>\n",
       "      <td>358934</td>\n",
       "      <td>1.010</td>\n",
       "      <td>3.475</td>\n",
       "      <td>3.475</td>\n",
       "      <td>3.43815</td>\n",
       "    </tr>\n",
       "    <tr>\n",
       "      <th>29481</th>\n",
       "      <td>f1_fuel_2018_12_193_1_15</td>\n",
       "      <td>193</td>\n",
       "      <td>2018</td>\n",
       "      <td>valley-total</td>\n",
       "      <td>gas</td>\n",
       "      <td>mcf</td>\n",
       "      <td>4724246</td>\n",
       "      <td>1.010</td>\n",
       "      <td>4.170</td>\n",
       "      <td>4.170</td>\n",
       "      <td>4.14360</td>\n",
       "    </tr>\n",
       "  </tbody>\n",
       "</table>\n",
       "<p>1277 rows × 11 columns</p>\n",
       "</div>"
      ],
      "text/plain": [
       "                      record_id  utility_id_ferc1  report_year  \\\n",
       "1        f1_fuel_1994_12_1_0_10                 1         1994   \n",
       "16        f1_fuel_1994_12_6_0_7                 6         1994   \n",
       "89      f1_fuel_1994_12_12_0_11                12         1994   \n",
       "90      f1_fuel_1994_12_12_0_14                12         1994   \n",
       "173      f1_fuel_1994_12_44_0_2                44         1994   \n",
       "...                         ...               ...          ...   \n",
       "29475   f1_fuel_2018_12_193_1_1               193         2018   \n",
       "29476   f1_fuel_2018_12_193_1_5               193         2018   \n",
       "29479  f1_fuel_2018_12_193_1_10               193         2018   \n",
       "29480  f1_fuel_2018_12_193_1_12               193         2018   \n",
       "29481  f1_fuel_2018_12_193_1_15               193         2018   \n",
       "\n",
       "           plant_name_ferc1 fuel_type_code_pudl fuel_unit  fuel_qty_burned  \\\n",
       "1      rockport total plant                coal       ton         10486945   \n",
       "16               amos-total                coal       ton          5327281   \n",
       "89              osage plant                coal       ton           205675   \n",
       "90             wyodak plant                coal       ton           391234   \n",
       "173       belle river total                coal       ton          4996518   \n",
       "...                     ...                 ...       ...              ...   \n",
       "29475    presque isle-total                coal       ton          1029238   \n",
       "29476   pt washington-total                 gas       mcf         39905100   \n",
       "29479    so oak creek-total                coal       ton          2784916   \n",
       "29480    so oak creek-total                 gas       mcf           358934   \n",
       "29481          valley-total                 gas       mcf          4724246   \n",
       "\n",
       "       fuel_mmbtu_per_unit  fuel_cost_per_unit_burned  \\\n",
       "1                   16.592                     18.580   \n",
       "16                  24.538                     44.312   \n",
       "89                  16.010                     14.720   \n",
       "90                  15.896                     10.100   \n",
       "173                 18.706                     27.620   \n",
       "...                    ...                        ...   \n",
       "29475               18.024                     42.557   \n",
       "29476                1.010                      3.211   \n",
       "29479               17.568                     36.526   \n",
       "29480                1.010                      3.475   \n",
       "29481                1.010                      4.170   \n",
       "\n",
       "       fuel_cost_per_unit_delivered  fuel_cost_per_mmbtu  \n",
       "1                            18.530              1.12000  \n",
       "16                           42.940              1.80600  \n",
       "89                           14.300              0.91900  \n",
       "90                            9.670              0.63500  \n",
       "173                          27.620              1.47600  \n",
       "...                             ...                  ...  \n",
       "29475                        42.557              2.36112  \n",
       "29476                         3.211              3.18960  \n",
       "29479                        36.526              2.07912  \n",
       "29480                         3.475              3.43815  \n",
       "29481                         4.170              4.14360  \n",
       "\n",
       "[1277 rows x 11 columns]"
      ]
     },
     "execution_count": 19,
     "metadata": {},
     "output_type": "execute_result"
    }
   ],
   "source": [
    "# check for key words like 'plant','total','power'\n",
    "raw_df.loc[raw_df['plant_name_ferc1'].str.contains('plant|total|power', regex=True)]"
   ]
  },
  {
   "cell_type": "code",
   "execution_count": 20,
   "metadata": {},
   "outputs": [],
   "source": [
    "# remove words such as 'plant','power','total' to improve uniqueness|similarity of plant names\n",
    "def remove_substrings():\n",
    "    x_strings = ['plant','power','total','ttl','plt']\n",
    "    return lambda x: ' '.join([word for word in x.split() if word not in x_strings])\n",
    "\n",
    "# apply to column = 'plant_name_ferc1'\n",
    "raw_df['plant_name_ferc1'] = raw_df['plant_name_ferc1'].apply(remove_substrings())"
   ]
  },
  {
   "cell_type": "code",
   "execution_count": 21,
   "metadata": {},
   "outputs": [
    {
     "data": {
      "text/plain": [
       "0                 rockport\n",
       "1                 rockport\n",
       "2                   gorgas\n",
       "3                    barry\n",
       "4                chickasaw\n",
       "5        e c gaston-unit 5\n",
       "6          joseph m farley\n",
       "7      resondent's portion\n",
       "8     respondent's portion\n",
       "9                units 1-3\n",
       "10               units 1-3\n",
       "11                  unit 4\n",
       "12                  unit 4\n",
       "13            clinch river\n",
       "14            clinch river\n",
       "15         amos-apco share\n",
       "16              amos-total\n",
       "17                glen lyn\n",
       "18           kanawha river\n",
       "19           kanawha river\n",
       "20               mountainr\n",
       "21               mountainr\n",
       "22       philip sporn-apco\n",
       "23       philip sporn-apco\n",
       "24            philip sporn\n",
       "25            philip sporn\n",
       "26      cholla units 1,2,3\n",
       "27      cholla units 1,2,3\n",
       "28      cholla units 1,2,3\n",
       "29               4 corners\n",
       "30               4 corners\n",
       "31               4 corners\n",
       "32               4 corners\n",
       "33             ocotillo 12\n",
       "34        saguaro units 12\n",
       "35        saguaro units 12\n",
       "36                 yucca 1\n",
       "37                 yucca 1\n",
       "38            navajo 1,2,3\n",
       "39      yucca comb turbine\n",
       "40                 douglas\n",
       "41               ocotil 12\n",
       "42                w phx 12\n",
       "43              saguaro 12\n",
       "44              saguaro 12\n",
       "45        palo verde 1,2,3\n",
       "46               w phoenix\n",
       "47               w phoenix\n",
       "48              bl england\n",
       "49              bl england\n",
       "Name: plant_name_ferc1, dtype: object"
      ]
     },
     "execution_count": 21,
     "metadata": {},
     "output_type": "execute_result"
    }
   ],
   "source": [
    "# display first 5 rows in the column = 'plant_name_ferc1' after cleaning\n",
    "raw_df['plant_name_ferc1'].head(50) "
   ]
  },
  {
   "cell_type": "markdown",
   "metadata": {},
   "source": [
    "#### 4.2. Task 2: Remove null values in column = 'fuel_unit'"
   ]
  },
  {
   "cell_type": "code",
   "execution_count": 22,
   "metadata": {},
   "outputs": [
    {
     "data": {
      "text/html": [
       "<div>\n",
       "<style scoped>\n",
       "    .dataframe tbody tr th:only-of-type {\n",
       "        vertical-align: middle;\n",
       "    }\n",
       "\n",
       "    .dataframe tbody tr th {\n",
       "        vertical-align: top;\n",
       "    }\n",
       "\n",
       "    .dataframe thead th {\n",
       "        text-align: right;\n",
       "    }\n",
       "</style>\n",
       "<table border=\"1\" class=\"dataframe\">\n",
       "  <thead>\n",
       "    <tr style=\"text-align: right;\">\n",
       "      <th></th>\n",
       "      <th>record_id</th>\n",
       "      <th>utility_id_ferc1</th>\n",
       "      <th>report_year</th>\n",
       "      <th>plant_name_ferc1</th>\n",
       "      <th>fuel_type_code_pudl</th>\n",
       "      <th>fuel_unit</th>\n",
       "      <th>fuel_qty_burned</th>\n",
       "      <th>fuel_mmbtu_per_unit</th>\n",
       "      <th>fuel_cost_per_unit_burned</th>\n",
       "      <th>fuel_cost_per_unit_delivered</th>\n",
       "      <th>fuel_cost_per_mmbtu</th>\n",
       "    </tr>\n",
       "  </thead>\n",
       "  <tbody>\n",
       "    <tr>\n",
       "      <th>0</th>\n",
       "      <td>f1_fuel_1994_12_1_0_7</td>\n",
       "      <td>1</td>\n",
       "      <td>1994</td>\n",
       "      <td>rockport</td>\n",
       "      <td>coal</td>\n",
       "      <td>ton</td>\n",
       "      <td>5377489</td>\n",
       "      <td>16.590</td>\n",
       "      <td>18.59</td>\n",
       "      <td>18.53</td>\n",
       "      <td>1.121</td>\n",
       "    </tr>\n",
       "    <tr>\n",
       "      <th>1</th>\n",
       "      <td>f1_fuel_1994_12_1_0_10</td>\n",
       "      <td>1</td>\n",
       "      <td>1994</td>\n",
       "      <td>rockport</td>\n",
       "      <td>coal</td>\n",
       "      <td>ton</td>\n",
       "      <td>10486945</td>\n",
       "      <td>16.592</td>\n",
       "      <td>18.58</td>\n",
       "      <td>18.53</td>\n",
       "      <td>1.120</td>\n",
       "    </tr>\n",
       "    <tr>\n",
       "      <th>2</th>\n",
       "      <td>f1_fuel_1994_12_2_0_1</td>\n",
       "      <td>2</td>\n",
       "      <td>1994</td>\n",
       "      <td>gorgas</td>\n",
       "      <td>coal</td>\n",
       "      <td>ton</td>\n",
       "      <td>2978683</td>\n",
       "      <td>24.130</td>\n",
       "      <td>39.72</td>\n",
       "      <td>38.12</td>\n",
       "      <td>1.650</td>\n",
       "    </tr>\n",
       "    <tr>\n",
       "      <th>3</th>\n",
       "      <td>f1_fuel_1994_12_2_0_7</td>\n",
       "      <td>2</td>\n",
       "      <td>1994</td>\n",
       "      <td>barry</td>\n",
       "      <td>coal</td>\n",
       "      <td>ton</td>\n",
       "      <td>3739484</td>\n",
       "      <td>23.950</td>\n",
       "      <td>47.21</td>\n",
       "      <td>45.99</td>\n",
       "      <td>1.970</td>\n",
       "    </tr>\n",
       "    <tr>\n",
       "      <th>4</th>\n",
       "      <td>f1_fuel_1994_12_2_0_10</td>\n",
       "      <td>2</td>\n",
       "      <td>1994</td>\n",
       "      <td>chickasaw</td>\n",
       "      <td>gas</td>\n",
       "      <td>mcf</td>\n",
       "      <td>40533</td>\n",
       "      <td>1.000</td>\n",
       "      <td>2.77</td>\n",
       "      <td>2.77</td>\n",
       "      <td>2.570</td>\n",
       "    </tr>\n",
       "  </tbody>\n",
       "</table>\n",
       "</div>"
      ],
      "text/plain": [
       "                record_id  utility_id_ferc1  report_year plant_name_ferc1  \\\n",
       "0   f1_fuel_1994_12_1_0_7                 1         1994         rockport   \n",
       "1  f1_fuel_1994_12_1_0_10                 1         1994         rockport   \n",
       "2   f1_fuel_1994_12_2_0_1                 2         1994           gorgas   \n",
       "3   f1_fuel_1994_12_2_0_7                 2         1994            barry   \n",
       "4  f1_fuel_1994_12_2_0_10                 2         1994        chickasaw   \n",
       "\n",
       "  fuel_type_code_pudl fuel_unit  fuel_qty_burned  fuel_mmbtu_per_unit  \\\n",
       "0                coal       ton          5377489               16.590   \n",
       "1                coal       ton         10486945               16.592   \n",
       "2                coal       ton          2978683               24.130   \n",
       "3                coal       ton          3739484               23.950   \n",
       "4                 gas       mcf            40533                1.000   \n",
       "\n",
       "   fuel_cost_per_unit_burned  fuel_cost_per_unit_delivered  \\\n",
       "0                      18.59                         18.53   \n",
       "1                      18.58                         18.53   \n",
       "2                      39.72                         38.12   \n",
       "3                      47.21                         45.99   \n",
       "4                       2.77                          2.77   \n",
       "\n",
       "   fuel_cost_per_mmbtu  \n",
       "0                1.121  \n",
       "1                1.120  \n",
       "2                1.650  \n",
       "3                1.970  \n",
       "4                2.570  "
      ]
     },
     "execution_count": 22,
     "metadata": {},
     "output_type": "execute_result"
    }
   ],
   "source": [
    "#display first 5 rows of dataframe\n",
    "raw_df.head(5)"
   ]
  },
  {
   "cell_type": "code",
   "execution_count": 23,
   "metadata": {},
   "outputs": [
    {
     "data": {
      "text/plain": [
       "record_id                         0\n",
       "utility_id_ferc1                  0\n",
       "report_year                       0\n",
       "plant_name_ferc1                  0\n",
       "fuel_type_code_pudl               0\n",
       "fuel_unit                       180\n",
       "fuel_qty_burned                   0\n",
       "fuel_mmbtu_per_unit               0\n",
       "fuel_cost_per_unit_burned         0\n",
       "fuel_cost_per_unit_delivered      0\n",
       "fuel_cost_per_mmbtu               0\n",
       "dtype: int64"
      ]
     },
     "execution_count": 23,
     "metadata": {},
     "output_type": "execute_result"
    }
   ],
   "source": [
    "# display null values contained in the data set\n",
    "raw_df.isnull().sum()"
   ]
  },
  {
   "cell_type": "code",
   "execution_count": 24,
   "metadata": {},
   "outputs": [
    {
     "data": {
      "text/plain": [
       "fuel_type_code_pudl  fuel_unit\n",
       "coal                 ton           8438\n",
       "                     mmbtu           52\n",
       "                     mcf              5\n",
       "                     bbl              1\n",
       "gas                  mcf          11333\n",
       "                     mmbtu           94\n",
       "                     ton              4\n",
       "                     bbl              2\n",
       "nuclear              gramsU         464\n",
       "                     kgU            110\n",
       "                     mwhth          100\n",
       "                     mwdth           95\n",
       "                     mmbtu           34\n",
       "oil                  bbl           7952\n",
       "                     gal             81\n",
       "                     mcf              7\n",
       "                     ton              3\n",
       "other                ton             77\n",
       "                     bbl             42\n",
       "                     mcf              9\n",
       "                     gal              3\n",
       "waste                ton            436\n",
       "                     bbl              1\n",
       "Name: fuel_unit, dtype: int64"
      ]
     },
     "execution_count": 24,
     "metadata": {},
     "output_type": "execute_result"
    }
   ],
   "source": [
    "# check the number of occurence of each fuel unit grouped by fuel types\n",
    "raw_df.groupby('fuel_type_code_pudl')['fuel_unit'].value_counts()"
   ]
  },
  {
   "cell_type": "markdown",
   "metadata": {},
   "source": [
    "###### -> Select the most frequent fuel unit in each group"
   ]
  },
  {
   "cell_type": "code",
   "execution_count": 25,
   "metadata": {},
   "outputs": [
    {
     "data": {
      "text/html": [
       "<div>\n",
       "<style scoped>\n",
       "    .dataframe tbody tr th:only-of-type {\n",
       "        vertical-align: middle;\n",
       "    }\n",
       "\n",
       "    .dataframe tbody tr th {\n",
       "        vertical-align: top;\n",
       "    }\n",
       "\n",
       "    .dataframe thead th {\n",
       "        text-align: right;\n",
       "    }\n",
       "</style>\n",
       "<table border=\"1\" class=\"dataframe\">\n",
       "  <thead>\n",
       "    <tr style=\"text-align: right;\">\n",
       "      <th></th>\n",
       "      <th>Fuel Types</th>\n",
       "      <th>Fuel Units</th>\n",
       "    </tr>\n",
       "  </thead>\n",
       "  <tbody>\n",
       "    <tr>\n",
       "      <th>0</th>\n",
       "      <td>coal</td>\n",
       "      <td>ton</td>\n",
       "    </tr>\n",
       "    <tr>\n",
       "      <th>1</th>\n",
       "      <td>gas</td>\n",
       "      <td>mcf</td>\n",
       "    </tr>\n",
       "    <tr>\n",
       "      <th>2</th>\n",
       "      <td>nuclear</td>\n",
       "      <td>gramsU</td>\n",
       "    </tr>\n",
       "    <tr>\n",
       "      <th>3</th>\n",
       "      <td>oil</td>\n",
       "      <td>bbl</td>\n",
       "    </tr>\n",
       "    <tr>\n",
       "      <th>4</th>\n",
       "      <td>waste</td>\n",
       "      <td>ton</td>\n",
       "    </tr>\n",
       "    <tr>\n",
       "      <th>5</th>\n",
       "      <td>other</td>\n",
       "      <td>ton</td>\n",
       "    </tr>\n",
       "  </tbody>\n",
       "</table>\n",
       "</div>"
      ],
      "text/plain": [
       "  Fuel Types Fuel Units\n",
       "0       coal        ton\n",
       "1        gas        mcf\n",
       "2    nuclear     gramsU\n",
       "3        oil        bbl\n",
       "4      waste        ton\n",
       "5      other        ton"
      ]
     },
     "execution_count": 25,
     "metadata": {},
     "output_type": "execute_result"
    }
   ],
   "source": [
    "# create variables of list and dataframe types\n",
    "fuel_unit_list = []\n",
    "fuel_type_df   = pd.DataFrame()\n",
    "\n",
    "# store the unique fuel types as a list\n",
    "fuel_type_list = raw_df['fuel_type_code_pudl'].unique()\n",
    "\n",
    "# loop through the fuel types and append to selected fuel units in each group  \n",
    "# Please note: these fuel units where selected by their frequency|count of appearance. the \n",
    "# most occurring are the selected units to be taken.\n",
    "for fuel_type in fuel_type_list:\n",
    "    fuel_unit_list.append(raw_df.loc[raw_df['fuel_type_code_pudl']==fuel_type,'fuel_unit'].mode())\n",
    "\n",
    "# fill the dataframe 'fuel_type_df' with the fuel_type_list and fuel_unit_list   \n",
    "fuel_type_df['Fuel Types'] = fuel_type_list\n",
    "fuel_type_df['Fuel Units'] = pd.DataFrame(fuel_unit_list)\n",
    "fuel_type_df"
   ]
  },
  {
   "cell_type": "code",
   "execution_count": 26,
   "metadata": {},
   "outputs": [
    {
     "data": {
      "text/plain": [
       "record_id                       0\n",
       "utility_id_ferc1                0\n",
       "report_year                     0\n",
       "plant_name_ferc1                0\n",
       "fuel_type_code_pudl             0\n",
       "fuel_unit                       0\n",
       "fuel_qty_burned                 0\n",
       "fuel_mmbtu_per_unit             0\n",
       "fuel_cost_per_unit_burned       0\n",
       "fuel_cost_per_unit_delivered    0\n",
       "fuel_cost_per_mmbtu             0\n",
       "dtype: int64"
      ]
     },
     "execution_count": 26,
     "metadata": {},
     "output_type": "execute_result"
    }
   ],
   "source": [
    "# remove null values from axis='fuel_unit' by grouping axis='fuel_type_code_pudl'\n",
    "for index,fuel_type in fuel_type_df.iterrows():\n",
    "    raw_df.loc[raw_df['fuel_type_code_pudl']==fuel_type['Fuel Types'],'fuel_unit'] = raw_df.loc[raw_df['fuel_type_code_pudl']==fuel_type['Fuel Types'],'fuel_unit'].fillna(value=fuel_type['Fuel Units'])\n",
    "\n",
    "raw_df.isnull().sum()"
   ]
  },
  {
   "cell_type": "markdown",
   "metadata": {},
   "source": [
    "#### 4.3. Task 3: Fill the rows containing '0' in axis='fuel_cost_per_unit_delivered'"
   ]
  },
  {
   "cell_type": "code",
   "execution_count": 27,
   "metadata": {},
   "outputs": [],
   "source": [
    "# Mask all the values in column = 'fuel_per_unit_cost_delivered' containing zero \n",
    "# value with the relative value on column = 'fuel_per_unit_cost_burned'\n",
    "df1 = raw_df['fuel_cost_per_unit_delivered']\n",
    "df2 = raw_df['fuel_cost_per_unit_burned']\n",
    "\n",
    "raw_df['fuel_cost_per_unit_delivered'] = df1.mask(df1==0, df2)"
   ]
  },
  {
   "cell_type": "code",
   "execution_count": 28,
   "metadata": {},
   "outputs": [
    {
     "data": {
      "text/plain": [
       "0       18.530\n",
       "1       18.530\n",
       "2       38.120\n",
       "3       45.990\n",
       "4        2.770\n",
       "5       43.250\n",
       "6       28.770\n",
       "7       55.130\n",
       "8       34.650\n",
       "9       28.110\n",
       "10       1.940\n",
       "11      28.110\n",
       "12       1.940\n",
       "13      29.019\n",
       "14      23.444\n",
       "15      42.915\n",
       "16      42.940\n",
       "17      32.893\n",
       "18      42.034\n",
       "19      26.280\n",
       "20      38.717\n",
       "21      23.884\n",
       "22      35.856\n",
       "23      30.508\n",
       "24      35.793\n",
       "25      30.507\n",
       "26      31.200\n",
       "27      28.730\n",
       "28       2.480\n",
       "29      20.860\n",
       "30       2.690\n",
       "31      21.050\n",
       "32       2.980\n",
       "33       2.170\n",
       "34      32.060\n",
       "35       2.200\n",
       "36      39.140\n",
       "37       2.380\n",
       "38      23.640\n",
       "39       2.290\n",
       "40      28.080\n",
       "41       2.530\n",
       "42       2.210\n",
       "43      52.150\n",
       "44       1.920\n",
       "45    1550.000\n",
       "46      22.520\n",
       "47       2.290\n",
       "48      43.550\n",
       "49      34.180\n",
       "Name: fuel_cost_per_unit_delivered, dtype: float64"
      ]
     },
     "execution_count": 28,
     "metadata": {},
     "output_type": "execute_result"
    }
   ],
   "source": [
    "raw_df['fuel_cost_per_unit_delivered'].head(50)"
   ]
  },
  {
   "cell_type": "markdown",
   "metadata": {},
   "source": [
    "#### 4.4. Task 4: Convert all zero values on column = 9 and 10 to null values. "
   ]
  },
  {
   "cell_type": "code",
   "execution_count": 29,
   "metadata": {},
   "outputs": [
    {
     "data": {
      "text/plain": [
       "fuel_cost_per_unit_burned       288\n",
       "fuel_cost_per_unit_delivered    224\n",
       "dtype: int64"
      ]
     },
     "execution_count": 29,
     "metadata": {},
     "output_type": "execute_result"
    }
   ],
   "source": [
    "# Mask all the values in column = 'fuel_per_unit_cost_delivered' containing zero \n",
    "# value with the relative value on column = 'fuel_per_unit_cost_burned'\n",
    "df1 = raw_df['fuel_cost_per_unit_burned'] \n",
    "df2 = raw_df['fuel_cost_per_unit_delivered']\n",
    "\n",
    "raw_df['fuel_cost_per_unit_burned']    = df1.mask(df1==0, np.nan)\n",
    "raw_df['fuel_cost_per_unit_delivered'] = df2.mask(df2==0, np.nan)\n",
    "\n",
    "# display the null values of of the two columns\n",
    "raw_df.iloc[:,8:10].isna().sum()"
   ]
  },
  {
   "cell_type": "markdown",
   "metadata": {},
   "source": [
    "#### 4.5. Task 5: Drop all rows containing null values and reset the index of the dataframe"
   ]
  },
  {
   "cell_type": "code",
   "execution_count": 30,
   "metadata": {},
   "outputs": [
    {
     "data": {
      "text/plain": [
       "record_id                         0\n",
       "utility_id_ferc1                  0\n",
       "report_year                       0\n",
       "plant_name_ferc1                  0\n",
       "fuel_type_code_pudl               0\n",
       "fuel_unit                         0\n",
       "fuel_qty_burned                   0\n",
       "fuel_mmbtu_per_unit               0\n",
       "fuel_cost_per_unit_burned       288\n",
       "fuel_cost_per_unit_delivered    224\n",
       "fuel_cost_per_mmbtu               0\n",
       "dtype: int64"
      ]
     },
     "execution_count": 30,
     "metadata": {},
     "output_type": "execute_result"
    }
   ],
   "source": [
    "# display the null values of of the two columns\n",
    "raw_df.isnull().sum()"
   ]
  },
  {
   "cell_type": "code",
   "execution_count": 31,
   "metadata": {},
   "outputs": [],
   "source": [
    "# drop null values and reset index\n",
    "raw_df.dropna(inplace=True)"
   ]
  },
  {
   "cell_type": "code",
   "execution_count": 32,
   "metadata": {},
   "outputs": [
    {
     "data": {
      "text/plain": [
       "record_id                       0\n",
       "utility_id_ferc1                0\n",
       "report_year                     0\n",
       "plant_name_ferc1                0\n",
       "fuel_type_code_pudl             0\n",
       "fuel_unit                       0\n",
       "fuel_qty_burned                 0\n",
       "fuel_mmbtu_per_unit             0\n",
       "fuel_cost_per_unit_burned       0\n",
       "fuel_cost_per_unit_delivered    0\n",
       "fuel_cost_per_mmbtu             0\n",
       "dtype: int64"
      ]
     },
     "execution_count": 32,
     "metadata": {},
     "output_type": "execute_result"
    }
   ],
   "source": [
    "# display the null values of of the two columns\n",
    "raw_df.isnull().sum()"
   ]
  },
  {
   "cell_type": "code",
   "execution_count": 33,
   "metadata": {},
   "outputs": [],
   "source": [
    "raw_df.reset_index(drop=False,inplace=True)"
   ]
  },
  {
   "cell_type": "markdown",
   "metadata": {},
   "source": [
    "#### 4.6. Task 6: Check and remove outliers from the dataset if any"
   ]
  },
  {
   "cell_type": "code",
   "execution_count": 35,
   "metadata": {},
   "outputs": [
    {
     "data": {
      "text/html": [
       "<div>\n",
       "<style scoped>\n",
       "    .dataframe tbody tr th:only-of-type {\n",
       "        vertical-align: middle;\n",
       "    }\n",
       "\n",
       "    .dataframe tbody tr th {\n",
       "        vertical-align: top;\n",
       "    }\n",
       "\n",
       "    .dataframe thead th {\n",
       "        text-align: right;\n",
       "    }\n",
       "</style>\n",
       "<table border=\"1\" class=\"dataframe\">\n",
       "  <thead>\n",
       "    <tr style=\"text-align: right;\">\n",
       "      <th></th>\n",
       "      <th>index</th>\n",
       "      <th>utility_id_ferc1</th>\n",
       "      <th>report_year</th>\n",
       "      <th>fuel_qty_burned</th>\n",
       "      <th>fuel_mmbtu_per_unit</th>\n",
       "      <th>fuel_cost_per_unit_burned</th>\n",
       "      <th>fuel_cost_per_unit_delivered</th>\n",
       "      <th>fuel_cost_per_mmbtu</th>\n",
       "    </tr>\n",
       "  </thead>\n",
       "  <tbody>\n",
       "    <tr>\n",
       "      <th>count</th>\n",
       "      <td>28388.000000</td>\n",
       "      <td>28388.000000</td>\n",
       "      <td>28388.000000</td>\n",
       "      <td>2.838800e+04</td>\n",
       "      <td>28388.000000</td>\n",
       "      <td>28388.000000</td>\n",
       "      <td>28388.000000</td>\n",
       "      <td>28388.000000</td>\n",
       "    </tr>\n",
       "    <tr>\n",
       "      <th>mean</th>\n",
       "      <td>14776.600007</td>\n",
       "      <td>119.291849</td>\n",
       "      <td>2005.818726</td>\n",
       "      <td>1.814315e+06</td>\n",
       "      <td>8.271817</td>\n",
       "      <td>35.182214</td>\n",
       "      <td>35.158958</td>\n",
       "      <td>6.202532</td>\n",
       "    </tr>\n",
       "    <tr>\n",
       "      <th>std</th>\n",
       "      <td>8497.448992</td>\n",
       "      <td>74.037463</td>\n",
       "      <td>7.005107</td>\n",
       "      <td>4.380509e+06</td>\n",
       "      <td>8.684610</td>\n",
       "      <td>37.157214</td>\n",
       "      <td>37.876230</td>\n",
       "      <td>5.886668</td>\n",
       "    </tr>\n",
       "    <tr>\n",
       "      <th>min</th>\n",
       "      <td>0.000000</td>\n",
       "      <td>1.000000</td>\n",
       "      <td>1994.000000</td>\n",
       "      <td>1.000000e+00</td>\n",
       "      <td>0.000006</td>\n",
       "      <td>-123.310000</td>\n",
       "      <td>-174.670000</td>\n",
       "      <td>-5.750000</td>\n",
       "    </tr>\n",
       "    <tr>\n",
       "      <th>25%</th>\n",
       "      <td>7457.750000</td>\n",
       "      <td>55.000000</td>\n",
       "      <td>2000.000000</td>\n",
       "      <td>1.371550e+04</td>\n",
       "      <td>1.024000</td>\n",
       "      <td>5.461000</td>\n",
       "      <td>5.300000</td>\n",
       "      <td>1.982000</td>\n",
       "    </tr>\n",
       "    <tr>\n",
       "      <th>50%</th>\n",
       "      <td>14767.500000</td>\n",
       "      <td>127.000000</td>\n",
       "      <td>2006.000000</td>\n",
       "      <td>2.387295e+05</td>\n",
       "      <td>5.770842</td>\n",
       "      <td>26.651500</td>\n",
       "      <td>25.567000</td>\n",
       "      <td>4.173000</td>\n",
       "    </tr>\n",
       "    <tr>\n",
       "      <th>75%</th>\n",
       "      <td>22119.250000</td>\n",
       "      <td>177.000000</td>\n",
       "      <td>2012.000000</td>\n",
       "      <td>1.359473e+06</td>\n",
       "      <td>17.074000</td>\n",
       "      <td>47.124000</td>\n",
       "      <td>47.050250</td>\n",
       "      <td>7.783250</td>\n",
       "    </tr>\n",
       "    <tr>\n",
       "      <th>max</th>\n",
       "      <td>29521.000000</td>\n",
       "      <td>513.000000</td>\n",
       "      <td>2018.000000</td>\n",
       "      <td>3.302884e+07</td>\n",
       "      <td>60.035126</td>\n",
       "      <td>295.310000</td>\n",
       "      <td>295.310000</td>\n",
       "      <td>48.555000</td>\n",
       "    </tr>\n",
       "  </tbody>\n",
       "</table>\n",
       "</div>"
      ],
      "text/plain": [
       "              index  utility_id_ferc1   report_year  fuel_qty_burned  \\\n",
       "count  28388.000000      28388.000000  28388.000000     2.838800e+04   \n",
       "mean   14776.600007        119.291849   2005.818726     1.814315e+06   \n",
       "std     8497.448992         74.037463      7.005107     4.380509e+06   \n",
       "min        0.000000          1.000000   1994.000000     1.000000e+00   \n",
       "25%     7457.750000         55.000000   2000.000000     1.371550e+04   \n",
       "50%    14767.500000        127.000000   2006.000000     2.387295e+05   \n",
       "75%    22119.250000        177.000000   2012.000000     1.359473e+06   \n",
       "max    29521.000000        513.000000   2018.000000     3.302884e+07   \n",
       "\n",
       "       fuel_mmbtu_per_unit  fuel_cost_per_unit_burned  \\\n",
       "count         28388.000000               28388.000000   \n",
       "mean              8.271817                  35.182214   \n",
       "std               8.684610                  37.157214   \n",
       "min               0.000006                -123.310000   \n",
       "25%               1.024000                   5.461000   \n",
       "50%               5.770842                  26.651500   \n",
       "75%              17.074000                  47.124000   \n",
       "max              60.035126                 295.310000   \n",
       "\n",
       "       fuel_cost_per_unit_delivered  fuel_cost_per_mmbtu  \n",
       "count                  28388.000000         28388.000000  \n",
       "mean                      35.158958             6.202532  \n",
       "std                       37.876230             5.886668  \n",
       "min                     -174.670000            -5.750000  \n",
       "25%                        5.300000             1.982000  \n",
       "50%                       25.567000             4.173000  \n",
       "75%                       47.050250             7.783250  \n",
       "max                      295.310000            48.555000  "
      ]
     },
     "execution_count": 35,
     "metadata": {},
     "output_type": "execute_result"
    }
   ],
   "source": [
    "# remove outliers\n",
    "Q1 = raw_df.quantile(0.05)\n",
    "Q3 = raw_df.quantile(0.95)\n",
    "\n",
    "IQR = Q3 - Q1\n",
    "raw_df  = raw_df[~((raw_df<=(Q1-1.5*IQR)) | (raw_df > (Q3 + 1.5 * IQR))).any(axis=1)]\n",
    "raw_df.describe()"
   ]
  },
  {
   "cell_type": "code",
   "execution_count": 36,
   "metadata": {},
   "outputs": [
    {
     "data": {
      "image/png": "[encoded data removed]",
      "text/plain": [
       "<Figure size 432x288 with 1 Axes>"
      ]
     },
     "metadata": {
      "needs_background": "light"
     },
     "output_type": "display_data"
    }
   ],
   "source": [
    "def plot_scatter(x,y,h,df):\n",
    "    sns.scatterplot(x=x,y=y,hue=h,data=df) \n",
    "    plt.show()\n",
    "\n",
    "# show data distribution\n",
    "plot_scatter('fuel_qty_burned','fuel_cost_per_unit_burned','fuel_unit',raw_df)"
   ]
  },
  {
   "cell_type": "code",
   "execution_count": 43,
   "metadata": {},
   "outputs": [],
   "source": [
    "# Save modified dataframe to file\n",
    "raw_df.to_excel(file_path+\"\\\\\"+'Modified_1.xlsx','Modified sheet',index=False)"
   ]
  },
  {
   "cell_type": "markdown",
   "metadata": {},
   "source": [
    "## 5. Data Visualization"
   ]
  },
  {
   "cell_type": "code",
   "execution_count": 44,
   "metadata": {},
   "outputs": [],
   "source": [
    "new_df = pd.read_excel(file_path+\"\\\\\"+'Modified_1.xlsx','Modified sheet')"
   ]
  },
  {
   "cell_type": "markdown",
   "metadata": {},
   "source": [
    "#### 5.1. What fuel was the most effecient "
   ]
  },
  {
   "cell_type": "code",
   "execution_count": 45,
   "metadata": {},
   "outputs": [
    {
     "data": {
      "text/html": [
       "<div>\n",
       "<style scoped>\n",
       "    .dataframe tbody tr th:only-of-type {\n",
       "        vertical-align: middle;\n",
       "    }\n",
       "\n",
       "    .dataframe tbody tr th {\n",
       "        vertical-align: top;\n",
       "    }\n",
       "\n",
       "    .dataframe thead th {\n",
       "        text-align: right;\n",
       "    }\n",
       "</style>\n",
       "<table border=\"1\" class=\"dataframe\">\n",
       "  <thead>\n",
       "    <tr style=\"text-align: right;\">\n",
       "      <th></th>\n",
       "      <th>index</th>\n",
       "      <th>record_id</th>\n",
       "      <th>utility_id_ferc1</th>\n",
       "      <th>report_year</th>\n",
       "      <th>plant_name_ferc1</th>\n",
       "      <th>fuel_type_code_pudl</th>\n",
       "      <th>fuel_unit</th>\n",
       "      <th>fuel_qty_burned</th>\n",
       "      <th>fuel_mmbtu_per_unit</th>\n",
       "      <th>fuel_cost_per_unit_burned</th>\n",
       "      <th>fuel_cost_per_unit_delivered</th>\n",
       "      <th>fuel_cost_per_mmbtu</th>\n",
       "      <th>energy_generated_mmbtu</th>\n",
       "    </tr>\n",
       "  </thead>\n",
       "  <tbody>\n",
       "    <tr>\n",
       "      <th>0</th>\n",
       "      <td>0</td>\n",
       "      <td>f1_fuel_1994_12_1_0_7</td>\n",
       "      <td>1</td>\n",
       "      <td>1994</td>\n",
       "      <td>rockport</td>\n",
       "      <td>coal</td>\n",
       "      <td>ton</td>\n",
       "      <td>5377489</td>\n",
       "      <td>16.590</td>\n",
       "      <td>18.59</td>\n",
       "      <td>18.53</td>\n",
       "      <td>1.121</td>\n",
       "      <td>8.921254e+07</td>\n",
       "    </tr>\n",
       "    <tr>\n",
       "      <th>1</th>\n",
       "      <td>1</td>\n",
       "      <td>f1_fuel_1994_12_1_0_10</td>\n",
       "      <td>1</td>\n",
       "      <td>1994</td>\n",
       "      <td>rockport</td>\n",
       "      <td>coal</td>\n",
       "      <td>ton</td>\n",
       "      <td>10486945</td>\n",
       "      <td>16.592</td>\n",
       "      <td>18.58</td>\n",
       "      <td>18.53</td>\n",
       "      <td>1.120</td>\n",
       "      <td>1.739994e+08</td>\n",
       "    </tr>\n",
       "    <tr>\n",
       "      <th>2</th>\n",
       "      <td>2</td>\n",
       "      <td>f1_fuel_1994_12_2_0_1</td>\n",
       "      <td>2</td>\n",
       "      <td>1994</td>\n",
       "      <td>gorgas</td>\n",
       "      <td>coal</td>\n",
       "      <td>ton</td>\n",
       "      <td>2978683</td>\n",
       "      <td>24.130</td>\n",
       "      <td>39.72</td>\n",
       "      <td>38.12</td>\n",
       "      <td>1.650</td>\n",
       "      <td>7.187562e+07</td>\n",
       "    </tr>\n",
       "    <tr>\n",
       "      <th>3</th>\n",
       "      <td>3</td>\n",
       "      <td>f1_fuel_1994_12_2_0_7</td>\n",
       "      <td>2</td>\n",
       "      <td>1994</td>\n",
       "      <td>barry</td>\n",
       "      <td>coal</td>\n",
       "      <td>ton</td>\n",
       "      <td>3739484</td>\n",
       "      <td>23.950</td>\n",
       "      <td>47.21</td>\n",
       "      <td>45.99</td>\n",
       "      <td>1.970</td>\n",
       "      <td>8.956064e+07</td>\n",
       "    </tr>\n",
       "    <tr>\n",
       "      <th>4</th>\n",
       "      <td>4</td>\n",
       "      <td>f1_fuel_1994_12_2_0_10</td>\n",
       "      <td>2</td>\n",
       "      <td>1994</td>\n",
       "      <td>chickasaw</td>\n",
       "      <td>gas</td>\n",
       "      <td>mcf</td>\n",
       "      <td>40533</td>\n",
       "      <td>1.000</td>\n",
       "      <td>2.77</td>\n",
       "      <td>2.77</td>\n",
       "      <td>2.570</td>\n",
       "      <td>4.053300e+04</td>\n",
       "    </tr>\n",
       "  </tbody>\n",
       "</table>\n",
       "</div>"
      ],
      "text/plain": [
       "   index               record_id  utility_id_ferc1  report_year  \\\n",
       "0      0   f1_fuel_1994_12_1_0_7                 1         1994   \n",
       "1      1  f1_fuel_1994_12_1_0_10                 1         1994   \n",
       "2      2   f1_fuel_1994_12_2_0_1                 2         1994   \n",
       "3      3   f1_fuel_1994_12_2_0_7                 2         1994   \n",
       "4      4  f1_fuel_1994_12_2_0_10                 2         1994   \n",
       "\n",
       "  plant_name_ferc1 fuel_type_code_pudl fuel_unit  fuel_qty_burned  \\\n",
       "0         rockport                coal       ton          5377489   \n",
       "1         rockport                coal       ton         10486945   \n",
       "2           gorgas                coal       ton          2978683   \n",
       "3            barry                coal       ton          3739484   \n",
       "4        chickasaw                 gas       mcf            40533   \n",
       "\n",
       "   fuel_mmbtu_per_unit  fuel_cost_per_unit_burned  \\\n",
       "0               16.590                      18.59   \n",
       "1               16.592                      18.58   \n",
       "2               24.130                      39.72   \n",
       "3               23.950                      47.21   \n",
       "4                1.000                       2.77   \n",
       "\n",
       "   fuel_cost_per_unit_delivered  fuel_cost_per_mmbtu  energy_generated_mmbtu  \n",
       "0                         18.53                1.121            8.921254e+07  \n",
       "1                         18.53                1.120            1.739994e+08  \n",
       "2                         38.12                1.650            7.187562e+07  \n",
       "3                         45.99                1.970            8.956064e+07  \n",
       "4                          2.77                2.570            4.053300e+04  "
      ]
     },
     "execution_count": 45,
     "metadata": {},
     "output_type": "execute_result"
    }
   ],
   "source": [
    "new_df['energy_generated_mmbtu'] = new_df['fuel_qty_burned'] * new_df['fuel_mmbtu_per_unit']\n",
    "\n",
    "# display\n",
    "new_df.head()"
   ]
  },
  {
   "cell_type": "code",
   "execution_count": 46,
   "metadata": {},
   "outputs": [
    {
     "data": {
      "text/plain": [
       "0        64.620277\n",
       "1        64.612488\n",
       "2        44.428114\n",
       "3        44.762021\n",
       "4      1072.050400\n",
       "5        44.814414\n",
       "6     16726.220863\n",
       "7        43.158229\n",
       "8        44.135463\n",
       "9        47.680591\n",
       "10     1044.883431\n",
       "11       47.799643\n",
       "12     1044.883431\n",
       "13       42.816934\n",
       "14      182.466166\n",
       "15       43.742876\n",
       "16       43.689396\n",
       "17       41.494442\n",
       "18       42.609316\n",
       "19      185.637783\n",
       "20       43.710772\n",
       "21      183.393036\n",
       "22       44.055659\n",
       "23      186.675025\n",
       "24       44.055659\n",
       "25      186.676390\n",
       "26       53.683045\n",
       "27      183.224532\n",
       "28     1216.993056\n",
       "29       61.155185\n",
       "Name: plant_efficiency, dtype: float64"
      ]
     },
     "execution_count": 46,
     "metadata": {},
     "output_type": "execute_result"
    }
   ],
   "source": [
    "new_df['energy_cost'] = new_df['fuel_mmbtu_per_unit'] * new_df['fuel_cost_per_mmbtu']\n",
    "new_df['heat_rate_mmbtu_per_kWH'] = new_df['fuel_mmbtu_per_unit'] / 0.003412\n",
    "def plant_efficiency(address):\n",
    "    return 314200/address\n",
    "new_df['plant_efficiency'] =  new_df['heat_rate_mmbtu_per_kWH'].apply(lambda x: plant_efficiency(x))\n",
    "new_df['plant_efficiency'].head(30)"
   ]
  },
  {
   "cell_type": "code",
   "execution_count": 47,
   "metadata": {},
   "outputs": [
    {
     "data": {
      "image/png": "[encoded data removed]",
      "text/plain": [
       "<Figure size 432x288 with 1 Axes>"
      ]
     },
     "metadata": {
      "needs_background": "light"
     },
     "output_type": "display_data"
    }
   ],
   "source": [
    "# show data distribution\n",
    "plot_scatter('heat_rate_mmbtu_per_kWH','plant_efficiency','fuel_unit',new_df)"
   ]
  },
  {
   "cell_type": "code",
   "execution_count": 48,
   "metadata": {},
   "outputs": [],
   "source": [
    "def remove_outliers(df):\n",
    "    data = df.values\n",
    "    # Calculate interquartile range\n",
    "    q25, q75 = np.percentile(data,25),np.percentile(data,75)\n",
    "    iqr = q75-q25\n",
    "    print(f'Percentiles: 25th={q25}%, 75th={q75}% IQR={iqr}%')\n",
    "    # calculate the outlier cutoff\n",
    "    cut_off = iqr * 1.5\n",
    "    lower, upper = q25 - cut_off, q75 + cut_off\n",
    "    # identify outliers\n",
    "    outliers = [x for x in data if x < lower or x > upper]\n",
    "    print(f'Identified outliers: {len(outliers)}')\n",
    "    # remove outliers\n",
    "    outliers_removed = [x for x in data if x >= lower and x <= upper]\n",
    "    print(f'Non-outliers observations: {outliers_removed}')\n",
    "    return outliers_removed"
   ]
  },
  {
   "cell_type": "code",
   "execution_count": 49,
   "metadata": {},
   "outputs": [
    {
     "name": "stdout",
     "output_type": "stream",
     "text": [
      "             fuel_mmbtu_per_unit  heat_rate_mmbtu_per_kWH\n",
      "report_year                                              \n",
      "1994                   10.054202              2946.718118\n",
      "1995                   10.031549              2940.078740\n",
      "1996                   10.212512              2993.116094\n",
      "1997                    9.854492              2888.186332\n",
      "1998                    9.526185              2791.965014\n",
      "1999                    9.827514              2880.279651\n",
      "2000                    8.784984              2574.731456\n",
      "2001                    8.188077              2399.788192\n",
      "2002                    8.123389              2380.829063\n",
      "2003                    8.245834              2416.715593\n",
      "2004                    8.203400              2404.278996\n",
      "2005                    7.961714              2333.445025\n",
      "2006                    8.054172              2360.542910\n",
      "2007                    8.004902              2346.102697\n",
      "2008                    7.917806              2320.576280\n",
      "2009                    7.741569              2268.924161\n",
      "2010                    7.535308              2208.472412\n",
      "2011                    7.735788              2267.229642\n",
      "2012                    7.810835              2289.224810\n",
      "2013                    7.786777              2282.173793\n",
      "2014                    7.535207              2208.442936\n",
      "2015                    7.238730              2121.550366\n",
      "2016                    6.854506              2008.940663\n",
      "2017                    6.761785              1981.765949\n",
      "2018                    6.573421              1926.559434\n"
     ]
    },
    {
     "data": {
      "image/png": "[encoded data removed]",
      "text/plain": [
       "<Figure size 432x288 with 1 Axes>"
      ]
     },
     "metadata": {
      "needs_background": "light"
     },
     "output_type": "display_data"
    }
   ],
   "source": [
    "result = new_df.groupby(['report_year']).mean()\n",
    "\n",
    "# print to display\n",
    "print(result[['fuel_mmbtu_per_unit','heat_rate_mmbtu_per_kWH']])\n",
    "\n",
    "result[['heat_rate_mmbtu_per_kWH']].plot.bar()\n",
    "plt.grid()"
   ]
  },
  {
   "cell_type": "code",
   "execution_count": 50,
   "metadata": {},
   "outputs": [
    {
     "name": "stdout",
     "output_type": "stream",
     "text": [
      "             plant_efficiency  heat_rate_mmbtu_per_kWH\n",
      "report_year                                           \n",
      "1994            362265.775763              2946.718118\n",
      "1995            349242.936983              2940.078740\n",
      "1996            228605.161561              2993.116094\n",
      "1997            225653.577907              2888.186332\n",
      "1998            359162.833318              2791.965014\n",
      "1999            359558.054614              2880.279651\n",
      "2000            138737.698601              2574.731456\n",
      "2001             97552.084281              2399.788192\n",
      "2002             76306.418940              2380.829063\n",
      "2003             73896.325698              2416.715593\n",
      "2004             96420.972221              2404.278996\n",
      "2005             56176.176261              2333.445025\n",
      "2006             53513.406720              2360.542910\n",
      "2007             30432.274932              2346.102697\n",
      "2008             17217.989224              2320.576280\n",
      "2009             89355.991260              2268.924161\n",
      "2010             31219.758383              2208.472412\n",
      "2011             30518.025324              2267.229642\n",
      "2012             30545.994536              2289.224810\n",
      "2013             32307.606978              2282.173793\n",
      "2014             19065.165318              2208.442936\n",
      "2015              3717.070975              2121.550366\n",
      "2016             11307.808736              2008.940663\n",
      "2017             13691.424611              1981.765949\n",
      "2018             37389.141232              1926.559434\n"
     ]
    },
    {
     "data": {
      "image/png": "[encoded data removed]",
      "text/plain": [
       "<Figure size 432x288 with 1 Axes>"
      ]
     },
     "metadata": {
      "needs_background": "light"
     },
     "output_type": "display_data"
    }
   ],
   "source": [
    "result = new_df.groupby(['report_year']).mean()\n",
    "\n",
    "# print to display\n",
    "print(result[['plant_efficiency','heat_rate_mmbtu_per_kWH']])\n",
    "\n",
    "result[['plant_efficiency']].plot.bar()\n",
    "plt.grid()"
   ]
  },
  {
   "cell_type": "code",
   "execution_count": 51,
   "metadata": {},
   "outputs": [
    {
     "name": "stdout",
     "output_type": "stream",
     "text": [
      "             fuel_mmbtu_per_unit\n",
      "report_year                     \n",
      "1994                   10.054202\n",
      "1995                   10.031549\n",
      "1996                   10.212512\n",
      "1997                    9.854492\n",
      "1998                    9.526185\n",
      "1999                    9.827514\n",
      "2000                    8.784984\n",
      "2001                    8.188077\n",
      "2002                    8.123389\n",
      "2003                    8.245834\n",
      "2004                    8.203400\n",
      "2005                    7.961714\n",
      "2006                    8.054172\n",
      "2007                    8.004902\n",
      "2008                    7.917806\n",
      "2009                    7.741569\n",
      "2010                    7.535308\n",
      "2011                    7.735788\n",
      "2012                    7.810835\n",
      "2013                    7.786777\n",
      "2014                    7.535207\n",
      "2015                    7.238730\n",
      "2016                    6.854506\n",
      "2017                    6.761785\n",
      "2018                    6.573421\n"
     ]
    },
    {
     "data": {
      "image/png": "[encoded data removed]",
      "text/plain": [
       "<Figure size 432x288 with 1 Axes>"
      ]
     },
     "metadata": {
      "needs_background": "light"
     },
     "output_type": "display_data"
    }
   ],
   "source": [
    "result = new_df.groupby(['report_year']).mean()\n",
    "\n",
    "# print to display\n",
    "print(result[['fuel_mmbtu_per_unit']])\n",
    "\n",
    "result['fuel_mmbtu_per_unit'].plot()\n",
    "plt.grid()"
   ]
  },
  {
   "cell_type": "code",
   "execution_count": null,
   "metadata": {},
   "outputs": [],
   "source": []
  },
  {
   "cell_type": "code",
   "execution_count": null,
   "metadata": {},
   "outputs": [],
   "source": []
  },
  {
   "cell_type": "markdown",
   "metadata": {},
   "source": [
    "##### What utitility had the consummed the hightest fuel"
   ]
  },
  {
   "cell_type": "markdown",
   "metadata": {},
   "source": [
    "#### Which plant is the most efficient?"
   ]
  },
  {
   "cell_type": "code",
   "execution_count": null,
   "metadata": {},
   "outputs": [],
   "source": []
  },
  {
   "cell_type": "markdown",
   "metadata": {},
   "source": [
    "#### Which utilities are the best and worst performing"
   ]
  },
  {
   "cell_type": "code",
   "execution_count": 52,
   "metadata": {},
   "outputs": [
    {
     "name": "stdout",
     "output_type": "stream",
     "text": [
      "                  fuel_mmbtu_per_unit   energy_cost\n",
      "utility_id_ferc1                                   \n",
      "1                         1094.307010   4597.809648\n",
      "2                         1826.234705   5109.741052\n",
      "4                          280.946000    372.428081\n",
      "6                         5236.669780  20701.917843\n",
      "7                         3678.055904  15286.947497\n",
      "...                               ...           ...\n",
      "432                        230.908793   2848.651095\n",
      "449                         57.632498    227.770855\n",
      "452                        442.589144   2690.711229\n",
      "454                        288.992928   1856.244366\n",
      "513                          2.064000     11.804016\n",
      "\n",
      "[182 rows x 2 columns]\n"
     ]
    },
    {
     "data": {
      "image/png": "[encoded data removed]",
      "text/plain": [
       "<Figure size 720x3240 with 1 Axes>"
      ]
     },
     "metadata": {
      "needs_background": "light"
     },
     "output_type": "display_data"
    }
   ],
   "source": [
    "result = new_df.groupby('utility_id_ferc1').sum()\n",
    "\n",
    "print(result[['fuel_mmbtu_per_unit','energy_cost']])\n",
    "\n",
    "result[['fuel_mmbtu_per_unit','energy_cost']].plot.barh(figsize=(10,45))\n",
    "#result[].plot.barh(color='red')\n",
    "plt.grid()\n",
    "plt.show()"
   ]
  },
  {
   "cell_type": "markdown",
   "metadata": {},
   "source": [
    "#### Which of the fuels are the most economical and efficient"
   ]
  },
  {
   "cell_type": "code",
   "execution_count": 53,
   "metadata": {},
   "outputs": [
    {
     "name": "stdout",
     "output_type": "stream",
     "text": [
      "                     fuel_mmbtu_per_unit  energy_cost\n",
      "fuel_type_code_pudl                                  \n",
      "coal                           20.767372    37.805526\n",
      "gas                             1.021897     5.537370\n",
      "nuclear                         2.197608     1.227672\n",
      "oil                             5.815627    73.422352\n",
      "other                           0.084818     0.280045\n",
      "waste                           0.358703     0.799033\n"
     ]
    },
    {
     "data": {
      "image/png": "[encoded data removed]",
      "text/plain": [
       "<Figure size 432x288 with 1 Axes>"
      ]
     },
     "metadata": {
      "needs_background": "light"
     },
     "output_type": "display_data"
    }
   ],
   "source": [
    "result = new_df.groupby('fuel_type_code_pudl').mean()\n",
    "\n",
    "# print to display\n",
    "print(result[['fuel_mmbtu_per_unit','energy_cost']])\n",
    "\n",
    "# plot graph\n",
    "result[['fuel_mmbtu_per_unit','energy_cost']].plot.bar()\n",
    "plt.grid()"
   ]
  },
  {
   "cell_type": "markdown",
   "metadata": {},
   "source": [
    "#### What year was the best performing year independent of the cost of fuel per mmbtu?"
   ]
  },
  {
   "cell_type": "code",
   "execution_count": null,
   "metadata": {},
   "outputs": [],
   "source": []
  },
  {
   "cell_type": "markdown",
   "metadata": {},
   "source": [
    "#### What factors where responsible for the outstanding performance in question --- above?"
   ]
  },
  {
   "cell_type": "code",
   "execution_count": null,
   "metadata": {},
   "outputs": [],
   "source": []
  },
  {
   "cell_type": "markdown",
   "metadata": {},
   "source": [
    "#### Seeing the above what are your recommendations?"
   ]
  },
  {
   "cell_type": "code",
   "execution_count": null,
   "metadata": {},
   "outputs": [],
   "source": []
  },
  {
   "cell_type": "code",
   "execution_count": null,
   "metadata": {},
   "outputs": [],
   "source": []
  },
  {
   "cell_type": "code",
   "execution_count": null,
   "metadata": {},
   "outputs": [],
   "source": []
  },
  {
   "cell_type": "code",
   "execution_count": null,
   "metadata": {},
   "outputs": [],
   "source": []
  },
  {
   "cell_type": "code",
   "execution_count": null,
   "metadata": {},
   "outputs": [],
   "source": []
  },
  {
   "cell_type": "code",
   "execution_count": null,
   "metadata": {},
   "outputs": [],
   "source": []
  },
  {
   "cell_type": "code",
   "execution_count": null,
   "metadata": {},
   "outputs": [],
   "source": []
  },
  {
   "cell_type": "code",
   "execution_count": null,
   "metadata": {},
   "outputs": [],
   "source": []
  },
  {
   "cell_type": "code",
   "execution_count": null,
   "metadata": {},
   "outputs": [],
   "source": []
  },
  {
   "cell_type": "code",
   "execution_count": null,
   "metadata": {},
   "outputs": [],
   "source": []
  },
  {
   "cell_type": "code",
   "execution_count": null,
   "metadata": {},
   "outputs": [],
   "source": []
  },
  {
   "cell_type": "code",
   "execution_count": null,
   "metadata": {},
   "outputs": [],
   "source": []
  },
  {
   "cell_type": "code",
   "execution_count": null,
   "metadata": {},
   "outputs": [],
   "source": []
  },
  {
   "cell_type": "code",
   "execution_count": null,
   "metadata": {},
   "outputs": [],
   "source": []
  },
  {
   "cell_type": "code",
   "execution_count": null,
   "metadata": {},
   "outputs": [],
   "source": []
  },
  {
   "cell_type": "code",
   "execution_count": null,
   "metadata": {},
   "outputs": [],
   "source": []
  },
  {
   "cell_type": "code",
   "execution_count": null,
   "metadata": {},
   "outputs": [],
   "source": []
  },
  {
   "cell_type": "code",
   "execution_count": null,
   "metadata": {},
   "outputs": [],
   "source": []
  },
  {
   "cell_type": "code",
   "execution_count": null,
   "metadata": {},
   "outputs": [],
   "source": []
  },
  {
   "cell_type": "code",
   "execution_count": null,
   "metadata": {},
   "outputs": [],
   "source": []
  }
 ],
 "metadata": {
  "kernelspec": {
   "display_name": "Python 3",
   "language": "python",
   "name": "python3"
  },
  "language_info": {
   "codemirror_mode": {
    "name": "ipython",
    "version": 3
   },
   "file_extension": ".py",
   "mimetype": "text/x-python",
   "name": "python",
   "nbconvert_exporter": "python",
   "pygments_lexer": "ipython3",
   "version": "3.7.6"
  }
 },
 "nbformat": 4,
 "nbformat_minor": 4
}
